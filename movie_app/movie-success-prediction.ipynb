{
 "cells": [
  {
   "cell_type": "code",
   "execution_count": 1,
   "id": "470c4fcd",
   "metadata": {
    "_cell_guid": "b1076dfc-b9ad-4769-8c92-a6c4dae69d19",
    "_uuid": "8f2839f25d086af736a60e9eeb907d3b93b6e0e5",
    "execution": {
     "iopub.execute_input": "2025-10-03T15:01:37.795559Z",
     "iopub.status.busy": "2025-10-03T15:01:37.795204Z",
     "iopub.status.idle": "2025-10-03T15:01:40.106042Z",
     "shell.execute_reply": "2025-10-03T15:01:40.104789Z"
    },
    "papermill": {
     "duration": 2.326342,
     "end_time": "2025-10-03T15:01:40.107968",
     "exception": false,
     "start_time": "2025-10-03T15:01:37.781626",
     "status": "completed"
    },
    "tags": []
   },
   "outputs": [
    {
     "name": "stdout",
     "output_type": "stream",
     "text": [
      "/kaggle/input/tmdb-movie-metadata/tmdb_5000_movies.csv\n",
      "/kaggle/input/tmdb-movie-metadata/tmdb_5000_credits.csv\n"
     ]
    }
   ],
   "source": [
    "# This Python 3 environment comes with many helpful analytics libraries installed\n",
    "# It is defined by the kaggle/python Docker image: https://github.com/kaggle/docker-python\n",
    "# For example, here's several helpful packages to load\n",
    "\n",
    "import numpy as np # linear algebra\n",
    "import pandas as pd # data processing, CSV file I/O (e.g. pd.read_csv)\n",
    "\n",
    "# Input data files are available in the read-only \"../input/\" directory\n",
    "# For example, running this (by clicking run or pressing Shift+Enter) will list all files under the input directory\n",
    "\n",
    "import os\n",
    "for dirname, _, filenames in os.walk('/kaggle/input'):\n",
    "    for filename in filenames:\n",
    "        print(os.path.join(dirname, filename))\n",
    "\n",
    "# You can write up to 20GB to the current directory (/kaggle/working/) that gets preserved as output when you create a version using \"Save & Run All\" \n",
    "# You can also write temporary files to /kaggle/temp/, but they won't be saved outside of the current session"
   ]
  },
  {
   "cell_type": "code",
   "execution_count": 2,
   "id": "536637b5",
   "metadata": {
    "execution": {
     "iopub.execute_input": "2025-10-03T15:01:40.131367Z",
     "iopub.status.busy": "2025-10-03T15:01:40.130887Z",
     "iopub.status.idle": "2025-10-03T15:01:42.526176Z",
     "shell.execute_reply": "2025-10-03T15:01:42.525001Z"
    },
    "papermill": {
     "duration": 2.409187,
     "end_time": "2025-10-03T15:01:42.528265",
     "exception": false,
     "start_time": "2025-10-03T15:01:40.119078",
     "status": "completed"
    },
    "tags": []
   },
   "outputs": [],
   "source": [
    "import pandas as pd \n",
    "import numpy as np \n",
    "import matplotlib.pyplot as plt\n",
    "import seaborn as sns\n",
    "import ast\n",
    "import warnings ## used to ignore warnings\n",
    "warnings.filterwarnings('ignore')\n",
    "%matplotlib inline"
   ]
  },
  {
   "cell_type": "code",
   "execution_count": 3,
   "id": "1653394f",
   "metadata": {
    "execution": {
     "iopub.execute_input": "2025-10-03T15:01:42.553306Z",
     "iopub.status.busy": "2025-10-03T15:01:42.552789Z",
     "iopub.status.idle": "2025-10-03T15:01:42.558435Z",
     "shell.execute_reply": "2025-10-03T15:01:42.557328Z"
    },
    "papermill": {
     "duration": 0.020413,
     "end_time": "2025-10-03T15:01:42.560328",
     "exception": false,
     "start_time": "2025-10-03T15:01:42.539915",
     "status": "completed"
    },
    "tags": []
   },
   "outputs": [],
   "source": [
    "# Set the maximum number of columns to display\n",
    "pd.options.display.max_columns = None\n",
    "\n",
    "# Set the maximum number of rows to display\n",
    "pd.options.display.max_rows = None"
   ]
  },
  {
   "cell_type": "code",
   "execution_count": 4,
   "id": "82f3074d",
   "metadata": {
    "execution": {
     "iopub.execute_input": "2025-10-03T15:01:42.582889Z",
     "iopub.status.busy": "2025-10-03T15:01:42.582571Z",
     "iopub.status.idle": "2025-10-03T15:01:43.920893Z",
     "shell.execute_reply": "2025-10-03T15:01:43.919832Z"
    },
    "papermill": {
     "duration": 1.352347,
     "end_time": "2025-10-03T15:01:43.923224",
     "exception": false,
     "start_time": "2025-10-03T15:01:42.570877",
     "status": "completed"
    },
    "tags": []
   },
   "outputs": [],
   "source": [
    "df_1 = pd.read_csv('/kaggle/input/tmdb-movie-metadata/tmdb_5000_credits.csv')\n",
    "df_2 = pd.read_csv('/kaggle/input/tmdb-movie-metadata/tmdb_5000_movies.csv')"
   ]
  },
  {
   "cell_type": "code",
   "execution_count": 5,
   "id": "1759d037",
   "metadata": {
    "execution": {
     "iopub.execute_input": "2025-10-03T15:01:43.949005Z",
     "iopub.status.busy": "2025-10-03T15:01:43.948632Z",
     "iopub.status.idle": "2025-10-03T15:01:52.857609Z",
     "shell.execute_reply": "2025-10-03T15:01:52.856446Z"
    },
    "papermill": {
     "duration": 8.923631,
     "end_time": "2025-10-03T15:01:52.859468",
     "exception": false,
     "start_time": "2025-10-03T15:01:43.935837",
     "status": "completed"
    },
    "tags": []
   },
   "outputs": [],
   "source": [
    "\n",
    "# -----------------------------\n",
    "# 🛠️ Step 1: convert JSON string to list/dict\n",
    "# -----------------------------\n",
    "def safe_eval(x):\n",
    "    try:\n",
    "        return ast.literal_eval(x)\n",
    "    except:\n",
    "        return []\n",
    "\n",
    "df_1['cast'] = df_1['cast'].apply(safe_eval)\n",
    "df_1['crew'] = df_1['crew'].apply(safe_eval)\n",
    "\n",
    "# -----------------------------\n",
    "# 🛠️ Step 2: (Top 3 cast)\n",
    "# -----------------------------\n",
    "df_1['top_cast'] = df_1['cast'].apply(lambda x: [i['name'] for i in x[:3]] if isinstance(x, list) else [])\n",
    "\n",
    "# -----------------------------\n",
    "# 🛠️ Step 3: cast size\n",
    "# -----------------------------\n",
    "df_1['cast_size'] = df_1['cast'].apply(lambda x: len(x) if isinstance(x, list) else 0)\n",
    "\n",
    "# -----------------------------\n",
    "# 🛠️ Step 4: (Director)\n",
    "# -----------------------------\n",
    "def get_director(crew_list):\n",
    "    if isinstance(crew_list, list):\n",
    "        for person in crew_list:\n",
    "            if person.get('job') == 'Director':\n",
    "                return person['name']\n",
    "    return None\n",
    "\n",
    "df_1['director'] = df_1['crew'].apply(get_director)\n",
    "\n",
    "# -----------------------------\n",
    "# 🛠️ Step 5: choose important column\n",
    "# -----------------------------\n",
    "clean_df_1 = df_1[['title', 'top_cast', 'cast_size', 'director']]\n",
    "\n",
    "\n",
    "\n"
   ]
  },
  {
   "cell_type": "code",
   "execution_count": 6,
   "id": "5f5fe4ef",
   "metadata": {
    "execution": {
     "iopub.execute_input": "2025-10-03T15:01:52.883658Z",
     "iopub.status.busy": "2025-10-03T15:01:52.883241Z",
     "iopub.status.idle": "2025-10-03T15:01:52.898925Z",
     "shell.execute_reply": "2025-10-03T15:01:52.897535Z"
    },
    "papermill": {
     "duration": 0.030986,
     "end_time": "2025-10-03T15:01:52.901119",
     "exception": false,
     "start_time": "2025-10-03T15:01:52.870133",
     "status": "completed"
    },
    "tags": []
   },
   "outputs": [],
   "source": [
    "clean_df_1['actor_1'] = clean_df_1['top_cast'].apply(lambda x: x[0] if len(x) > 0 else None)\n",
    "clean_df_1['actor_2'] = clean_df_1['top_cast'].apply(lambda x: x[1] if len(x) > 1 else None)\n",
    "clean_df_1['actor_3'] = clean_df_1['top_cast'].apply(lambda x: x[2] if len(x) > 2 else None)"
   ]
  },
  {
   "cell_type": "code",
   "execution_count": 7,
   "id": "737fe676",
   "metadata": {
    "execution": {
     "iopub.execute_input": "2025-10-03T15:01:52.925088Z",
     "iopub.status.busy": "2025-10-03T15:01:52.923704Z",
     "iopub.status.idle": "2025-10-03T15:01:52.953356Z",
     "shell.execute_reply": "2025-10-03T15:01:52.951760Z"
    },
    "papermill": {
     "duration": 0.043467,
     "end_time": "2025-10-03T15:01:52.955237",
     "exception": false,
     "start_time": "2025-10-03T15:01:52.911770",
     "status": "completed"
    },
    "tags": []
   },
   "outputs": [
    {
     "data": {
      "text/html": [
       "<div>\n",
       "<style scoped>\n",
       "    .dataframe tbody tr th:only-of-type {\n",
       "        vertical-align: middle;\n",
       "    }\n",
       "\n",
       "    .dataframe tbody tr th {\n",
       "        vertical-align: top;\n",
       "    }\n",
       "\n",
       "    .dataframe thead th {\n",
       "        text-align: right;\n",
       "    }\n",
       "</style>\n",
       "<table border=\"1\" class=\"dataframe\">\n",
       "  <thead>\n",
       "    <tr style=\"text-align: right;\">\n",
       "      <th></th>\n",
       "      <th>title</th>\n",
       "      <th>top_cast</th>\n",
       "      <th>cast_size</th>\n",
       "      <th>director</th>\n",
       "      <th>actor_1</th>\n",
       "      <th>actor_2</th>\n",
       "      <th>actor_3</th>\n",
       "    </tr>\n",
       "  </thead>\n",
       "  <tbody>\n",
       "    <tr>\n",
       "      <th>0</th>\n",
       "      <td>Avatar</td>\n",
       "      <td>[Sam Worthington, Zoe Saldana, Sigourney Weaver]</td>\n",
       "      <td>83</td>\n",
       "      <td>James Cameron</td>\n",
       "      <td>Sam Worthington</td>\n",
       "      <td>Zoe Saldana</td>\n",
       "      <td>Sigourney Weaver</td>\n",
       "    </tr>\n",
       "    <tr>\n",
       "      <th>1</th>\n",
       "      <td>Pirates of the Caribbean: At World's End</td>\n",
       "      <td>[Johnny Depp, Orlando Bloom, Keira Knightley]</td>\n",
       "      <td>34</td>\n",
       "      <td>Gore Verbinski</td>\n",
       "      <td>Johnny Depp</td>\n",
       "      <td>Orlando Bloom</td>\n",
       "      <td>Keira Knightley</td>\n",
       "    </tr>\n",
       "    <tr>\n",
       "      <th>2</th>\n",
       "      <td>Spectre</td>\n",
       "      <td>[Daniel Craig, Christoph Waltz, Léa Seydoux]</td>\n",
       "      <td>83</td>\n",
       "      <td>Sam Mendes</td>\n",
       "      <td>Daniel Craig</td>\n",
       "      <td>Christoph Waltz</td>\n",
       "      <td>Léa Seydoux</td>\n",
       "    </tr>\n",
       "    <tr>\n",
       "      <th>3</th>\n",
       "      <td>The Dark Knight Rises</td>\n",
       "      <td>[Christian Bale, Michael Caine, Gary Oldman]</td>\n",
       "      <td>158</td>\n",
       "      <td>Christopher Nolan</td>\n",
       "      <td>Christian Bale</td>\n",
       "      <td>Michael Caine</td>\n",
       "      <td>Gary Oldman</td>\n",
       "    </tr>\n",
       "    <tr>\n",
       "      <th>4</th>\n",
       "      <td>John Carter</td>\n",
       "      <td>[Taylor Kitsch, Lynn Collins, Samantha Morton]</td>\n",
       "      <td>27</td>\n",
       "      <td>Andrew Stanton</td>\n",
       "      <td>Taylor Kitsch</td>\n",
       "      <td>Lynn Collins</td>\n",
       "      <td>Samantha Morton</td>\n",
       "    </tr>\n",
       "  </tbody>\n",
       "</table>\n",
       "</div>"
      ],
      "text/plain": [
       "                                      title  \\\n",
       "0                                    Avatar   \n",
       "1  Pirates of the Caribbean: At World's End   \n",
       "2                                   Spectre   \n",
       "3                     The Dark Knight Rises   \n",
       "4                               John Carter   \n",
       "\n",
       "                                           top_cast  cast_size  \\\n",
       "0  [Sam Worthington, Zoe Saldana, Sigourney Weaver]         83   \n",
       "1     [Johnny Depp, Orlando Bloom, Keira Knightley]         34   \n",
       "2      [Daniel Craig, Christoph Waltz, Léa Seydoux]         83   \n",
       "3      [Christian Bale, Michael Caine, Gary Oldman]        158   \n",
       "4    [Taylor Kitsch, Lynn Collins, Samantha Morton]         27   \n",
       "\n",
       "            director          actor_1          actor_2           actor_3  \n",
       "0      James Cameron  Sam Worthington      Zoe Saldana  Sigourney Weaver  \n",
       "1     Gore Verbinski      Johnny Depp    Orlando Bloom   Keira Knightley  \n",
       "2         Sam Mendes     Daniel Craig  Christoph Waltz       Léa Seydoux  \n",
       "3  Christopher Nolan   Christian Bale    Michael Caine       Gary Oldman  \n",
       "4     Andrew Stanton    Taylor Kitsch     Lynn Collins   Samantha Morton  "
      ]
     },
     "execution_count": 7,
     "metadata": {},
     "output_type": "execute_result"
    }
   ],
   "source": [
    "clean_df_1.head()"
   ]
  },
  {
   "cell_type": "code",
   "execution_count": 8,
   "id": "2637066b",
   "metadata": {
    "execution": {
     "iopub.execute_input": "2025-10-03T15:01:52.981024Z",
     "iopub.status.busy": "2025-10-03T15:01:52.980665Z",
     "iopub.status.idle": "2025-10-03T15:01:52.987973Z",
     "shell.execute_reply": "2025-10-03T15:01:52.986595Z"
    },
    "papermill": {
     "duration": 0.022504,
     "end_time": "2025-10-03T15:01:52.989664",
     "exception": false,
     "start_time": "2025-10-03T15:01:52.967160",
     "status": "completed"
    },
    "tags": []
   },
   "outputs": [
    {
     "data": {
      "text/plain": [
       "'Sam Worthington'"
      ]
     },
     "execution_count": 8,
     "metadata": {},
     "output_type": "execute_result"
    }
   ],
   "source": [
    "clean_df_1['top_cast'][0][0]"
   ]
  },
  {
   "cell_type": "code",
   "execution_count": 9,
   "id": "4e578933",
   "metadata": {
    "execution": {
     "iopub.execute_input": "2025-10-03T15:01:53.013463Z",
     "iopub.status.busy": "2025-10-03T15:01:53.013155Z",
     "iopub.status.idle": "2025-10-03T15:01:54.294854Z",
     "shell.execute_reply": "2025-10-03T15:01:54.293764Z"
    },
    "papermill": {
     "duration": 1.295899,
     "end_time": "2025-10-03T15:01:54.296795",
     "exception": false,
     "start_time": "2025-10-03T15:01:53.000896",
     "status": "completed"
    },
    "tags": []
   },
   "outputs": [],
   "source": [
    "# -----------------------------\n",
    "# 🛠️ Step 1: convert JSON string to list/dict\n",
    "# -----------------------------\n",
    "def safe_eval(x):\n",
    "    try:\n",
    "        return ast.literal_eval(x)\n",
    "    except:\n",
    "        return []\n",
    "\n",
    "# ---------------------------\n",
    "# 🛠️ Genres\n",
    "# ---------------------------\n",
    "df_2['genres'] = df_2['genres'].apply(safe_eval)\n",
    "df_2['genres'] = df_2['genres'].apply(lambda x: [i['name'] for i in x] if isinstance(x, list) else [])\n",
    "\n",
    "# ---------------------------\n",
    "# 🛠️ Keywords\n",
    "# ---------------------------\n",
    "df_2['keywords'] = df_2['keywords'].apply(safe_eval)\n",
    "df_2['keywords'] = df_2['keywords'].apply(lambda x: [i['name'] for i in x] if isinstance(x, list) else [])\n",
    "\n",
    "# ---------------------------\n",
    "# 🛠️ Production Companies\n",
    "# ---------------------------\n",
    "df_2['production_companies'] = df_2['production_companies'].apply(safe_eval)\n",
    "df_2['production_companies'] = df_2['production_companies'].apply(lambda x: [i['name'] for i in x] if isinstance(x, list) else [])\n",
    "\n",
    "# ---------------------------\n",
    "# 🛠️ Production Countries\n",
    "# ---------------------------\n",
    "df_2['production_countries'] = df_2['production_countries'].apply(safe_eval)\n",
    "df_2['production_countries'] = df_2['production_countries'].apply(lambda x: [i['name'] for i in x] if isinstance(x, list) else [])\n",
    "\n",
    "# ---------------------------\n",
    "# 🛠️ Spoken Languages\n",
    "# ---------------------------\n",
    "df_2['spoken_languages'] = df_2['spoken_languages'].apply(safe_eval)\n",
    "df_2['spoken_languages'] = df_2['spoken_languages'].apply(lambda x: [i['name'] for i in x] if isinstance(x, list) else [])\n",
    "\n",
    "# ---------------------------\n",
    "# 🛠️ Clean DF (select useful columns)\n",
    "# ---------------------------\n",
    "clean_df_2 = df_2[['title', 'genres', 'keywords', 'production_companies', 'production_countries', 'spoken_languages', 'runtime', 'budget', 'revenue']]\n",
    "\n",
    "\n"
   ]
  },
  {
   "cell_type": "code",
   "execution_count": 10,
   "id": "a60f8ed2",
   "metadata": {
    "execution": {
     "iopub.execute_input": "2025-10-03T15:01:54.319896Z",
     "iopub.status.busy": "2025-10-03T15:01:54.319428Z",
     "iopub.status.idle": "2025-10-03T15:01:54.340234Z",
     "shell.execute_reply": "2025-10-03T15:01:54.339044Z"
    },
    "papermill": {
     "duration": 0.03418,
     "end_time": "2025-10-03T15:01:54.341932",
     "exception": false,
     "start_time": "2025-10-03T15:01:54.307752",
     "status": "completed"
    },
    "tags": []
   },
   "outputs": [
    {
     "data": {
      "text/html": [
       "<div>\n",
       "<style scoped>\n",
       "    .dataframe tbody tr th:only-of-type {\n",
       "        vertical-align: middle;\n",
       "    }\n",
       "\n",
       "    .dataframe tbody tr th {\n",
       "        vertical-align: top;\n",
       "    }\n",
       "\n",
       "    .dataframe thead th {\n",
       "        text-align: right;\n",
       "    }\n",
       "</style>\n",
       "<table border=\"1\" class=\"dataframe\">\n",
       "  <thead>\n",
       "    <tr style=\"text-align: right;\">\n",
       "      <th></th>\n",
       "      <th>title</th>\n",
       "      <th>genres</th>\n",
       "      <th>keywords</th>\n",
       "      <th>production_companies</th>\n",
       "      <th>production_countries</th>\n",
       "      <th>spoken_languages</th>\n",
       "      <th>runtime</th>\n",
       "      <th>budget</th>\n",
       "      <th>revenue</th>\n",
       "    </tr>\n",
       "  </thead>\n",
       "  <tbody>\n",
       "    <tr>\n",
       "      <th>0</th>\n",
       "      <td>Avatar</td>\n",
       "      <td>[Action, Adventure, Fantasy, Science Fiction]</td>\n",
       "      <td>[culture clash, future, space war, space colon...</td>\n",
       "      <td>[Ingenious Film Partners, Twentieth Century Fo...</td>\n",
       "      <td>[United States of America, United Kingdom]</td>\n",
       "      <td>[English, Español]</td>\n",
       "      <td>162.0</td>\n",
       "      <td>237000000</td>\n",
       "      <td>2787965087</td>\n",
       "    </tr>\n",
       "    <tr>\n",
       "      <th>1</th>\n",
       "      <td>Pirates of the Caribbean: At World's End</td>\n",
       "      <td>[Adventure, Fantasy, Action]</td>\n",
       "      <td>[ocean, drug abuse, exotic island, east india ...</td>\n",
       "      <td>[Walt Disney Pictures, Jerry Bruckheimer Films...</td>\n",
       "      <td>[United States of America]</td>\n",
       "      <td>[English]</td>\n",
       "      <td>169.0</td>\n",
       "      <td>300000000</td>\n",
       "      <td>961000000</td>\n",
       "    </tr>\n",
       "    <tr>\n",
       "      <th>2</th>\n",
       "      <td>Spectre</td>\n",
       "      <td>[Action, Adventure, Crime]</td>\n",
       "      <td>[spy, based on novel, secret agent, sequel, mi...</td>\n",
       "      <td>[Columbia Pictures, Danjaq, B24]</td>\n",
       "      <td>[United Kingdom, United States of America]</td>\n",
       "      <td>[Français, English, Español, Italiano, Deutsch]</td>\n",
       "      <td>148.0</td>\n",
       "      <td>245000000</td>\n",
       "      <td>880674609</td>\n",
       "    </tr>\n",
       "    <tr>\n",
       "      <th>3</th>\n",
       "      <td>The Dark Knight Rises</td>\n",
       "      <td>[Action, Crime, Drama, Thriller]</td>\n",
       "      <td>[dc comics, crime fighter, terrorist, secret i...</td>\n",
       "      <td>[Legendary Pictures, Warner Bros., DC Entertai...</td>\n",
       "      <td>[United States of America]</td>\n",
       "      <td>[English]</td>\n",
       "      <td>165.0</td>\n",
       "      <td>250000000</td>\n",
       "      <td>1084939099</td>\n",
       "    </tr>\n",
       "    <tr>\n",
       "      <th>4</th>\n",
       "      <td>John Carter</td>\n",
       "      <td>[Action, Adventure, Science Fiction]</td>\n",
       "      <td>[based on novel, mars, medallion, space travel...</td>\n",
       "      <td>[Walt Disney Pictures]</td>\n",
       "      <td>[United States of America]</td>\n",
       "      <td>[English]</td>\n",
       "      <td>132.0</td>\n",
       "      <td>260000000</td>\n",
       "      <td>284139100</td>\n",
       "    </tr>\n",
       "  </tbody>\n",
       "</table>\n",
       "</div>"
      ],
      "text/plain": [
       "                                      title  \\\n",
       "0                                    Avatar   \n",
       "1  Pirates of the Caribbean: At World's End   \n",
       "2                                   Spectre   \n",
       "3                     The Dark Knight Rises   \n",
       "4                               John Carter   \n",
       "\n",
       "                                          genres  \\\n",
       "0  [Action, Adventure, Fantasy, Science Fiction]   \n",
       "1                   [Adventure, Fantasy, Action]   \n",
       "2                     [Action, Adventure, Crime]   \n",
       "3               [Action, Crime, Drama, Thriller]   \n",
       "4           [Action, Adventure, Science Fiction]   \n",
       "\n",
       "                                            keywords  \\\n",
       "0  [culture clash, future, space war, space colon...   \n",
       "1  [ocean, drug abuse, exotic island, east india ...   \n",
       "2  [spy, based on novel, secret agent, sequel, mi...   \n",
       "3  [dc comics, crime fighter, terrorist, secret i...   \n",
       "4  [based on novel, mars, medallion, space travel...   \n",
       "\n",
       "                                production_companies  \\\n",
       "0  [Ingenious Film Partners, Twentieth Century Fo...   \n",
       "1  [Walt Disney Pictures, Jerry Bruckheimer Films...   \n",
       "2                   [Columbia Pictures, Danjaq, B24]   \n",
       "3  [Legendary Pictures, Warner Bros., DC Entertai...   \n",
       "4                             [Walt Disney Pictures]   \n",
       "\n",
       "                         production_countries  \\\n",
       "0  [United States of America, United Kingdom]   \n",
       "1                  [United States of America]   \n",
       "2  [United Kingdom, United States of America]   \n",
       "3                  [United States of America]   \n",
       "4                  [United States of America]   \n",
       "\n",
       "                                  spoken_languages  runtime     budget  \\\n",
       "0                               [English, Español]    162.0  237000000   \n",
       "1                                        [English]    169.0  300000000   \n",
       "2  [Français, English, Español, Italiano, Deutsch]    148.0  245000000   \n",
       "3                                        [English]    165.0  250000000   \n",
       "4                                        [English]    132.0  260000000   \n",
       "\n",
       "      revenue  \n",
       "0  2787965087  \n",
       "1   961000000  \n",
       "2   880674609  \n",
       "3  1084939099  \n",
       "4   284139100  "
      ]
     },
     "execution_count": 10,
     "metadata": {},
     "output_type": "execute_result"
    }
   ],
   "source": [
    "clean_df_2.head()"
   ]
  },
  {
   "cell_type": "code",
   "execution_count": 11,
   "id": "865222dc",
   "metadata": {
    "execution": {
     "iopub.execute_input": "2025-10-03T15:01:54.366215Z",
     "iopub.status.busy": "2025-10-03T15:01:54.365883Z",
     "iopub.status.idle": "2025-10-03T15:01:54.372088Z",
     "shell.execute_reply": "2025-10-03T15:01:54.370970Z"
    },
    "papermill": {
     "duration": 0.020382,
     "end_time": "2025-10-03T15:01:54.374008",
     "exception": false,
     "start_time": "2025-10-03T15:01:54.353626",
     "status": "completed"
    },
    "tags": []
   },
   "outputs": [
    {
     "data": {
      "text/plain": [
       "(4803, 7)"
      ]
     },
     "execution_count": 11,
     "metadata": {},
     "output_type": "execute_result"
    }
   ],
   "source": [
    "clean_df_1.shape"
   ]
  },
  {
   "cell_type": "code",
   "execution_count": 12,
   "id": "04b231fa",
   "metadata": {
    "execution": {
     "iopub.execute_input": "2025-10-03T15:01:54.400689Z",
     "iopub.status.busy": "2025-10-03T15:01:54.400237Z",
     "iopub.status.idle": "2025-10-03T15:01:54.406333Z",
     "shell.execute_reply": "2025-10-03T15:01:54.405455Z"
    },
    "papermill": {
     "duration": 0.020836,
     "end_time": "2025-10-03T15:01:54.407857",
     "exception": false,
     "start_time": "2025-10-03T15:01:54.387021",
     "status": "completed"
    },
    "tags": []
   },
   "outputs": [
    {
     "data": {
      "text/plain": [
       "(4803, 9)"
      ]
     },
     "execution_count": 12,
     "metadata": {},
     "output_type": "execute_result"
    }
   ],
   "source": [
    "clean_df_2.shape"
   ]
  },
  {
   "cell_type": "code",
   "execution_count": 13,
   "id": "680c1757",
   "metadata": {
    "execution": {
     "iopub.execute_input": "2025-10-03T15:01:54.431958Z",
     "iopub.status.busy": "2025-10-03T15:01:54.431594Z",
     "iopub.status.idle": "2025-10-03T15:01:54.458358Z",
     "shell.execute_reply": "2025-10-03T15:01:54.457208Z"
    },
    "papermill": {
     "duration": 0.04067,
     "end_time": "2025-10-03T15:01:54.460019",
     "exception": false,
     "start_time": "2025-10-03T15:01:54.419349",
     "status": "completed"
    },
    "tags": []
   },
   "outputs": [
    {
     "name": "stdout",
     "output_type": "stream",
     "text": [
      "<class 'pandas.core.frame.DataFrame'>\n",
      "RangeIndex: 4803 entries, 0 to 4802\n",
      "Data columns (total 7 columns):\n",
      " #   Column     Non-Null Count  Dtype \n",
      "---  ------     --------------  ----- \n",
      " 0   title      4803 non-null   object\n",
      " 1   top_cast   4803 non-null   object\n",
      " 2   cast_size  4803 non-null   int64 \n",
      " 3   director   4773 non-null   object\n",
      " 4   actor_1    4760 non-null   object\n",
      " 5   actor_2    4750 non-null   object\n",
      " 6   actor_3    4740 non-null   object\n",
      "dtypes: int64(1), object(6)\n",
      "memory usage: 262.8+ KB\n"
     ]
    }
   ],
   "source": [
    "clean_df_1.info()"
   ]
  },
  {
   "cell_type": "code",
   "execution_count": 14,
   "id": "0b3efa95",
   "metadata": {
    "execution": {
     "iopub.execute_input": "2025-10-03T15:01:54.484261Z",
     "iopub.status.busy": "2025-10-03T15:01:54.483961Z",
     "iopub.status.idle": "2025-10-03T15:01:54.497688Z",
     "shell.execute_reply": "2025-10-03T15:01:54.496632Z"
    },
    "papermill": {
     "duration": 0.028282,
     "end_time": "2025-10-03T15:01:54.499781",
     "exception": false,
     "start_time": "2025-10-03T15:01:54.471499",
     "status": "completed"
    },
    "tags": []
   },
   "outputs": [
    {
     "name": "stdout",
     "output_type": "stream",
     "text": [
      "<class 'pandas.core.frame.DataFrame'>\n",
      "RangeIndex: 4803 entries, 0 to 4802\n",
      "Data columns (total 9 columns):\n",
      " #   Column                Non-Null Count  Dtype  \n",
      "---  ------                --------------  -----  \n",
      " 0   title                 4803 non-null   object \n",
      " 1   genres                4803 non-null   object \n",
      " 2   keywords              4803 non-null   object \n",
      " 3   production_companies  4803 non-null   object \n",
      " 4   production_countries  4803 non-null   object \n",
      " 5   spoken_languages      4803 non-null   object \n",
      " 6   runtime               4801 non-null   float64\n",
      " 7   budget                4803 non-null   int64  \n",
      " 8   revenue               4803 non-null   int64  \n",
      "dtypes: float64(1), int64(2), object(6)\n",
      "memory usage: 337.8+ KB\n"
     ]
    }
   ],
   "source": [
    "clean_df_2.info()"
   ]
  },
  {
   "cell_type": "code",
   "execution_count": 15,
   "id": "7867df80",
   "metadata": {
    "execution": {
     "iopub.execute_input": "2025-10-03T15:01:54.526224Z",
     "iopub.status.busy": "2025-10-03T15:01:54.525913Z",
     "iopub.status.idle": "2025-10-03T15:01:54.544319Z",
     "shell.execute_reply": "2025-10-03T15:01:54.543153Z"
    },
    "papermill": {
     "duration": 0.034253,
     "end_time": "2025-10-03T15:01:54.546241",
     "exception": false,
     "start_time": "2025-10-03T15:01:54.511988",
     "status": "completed"
    },
    "tags": []
   },
   "outputs": [
    {
     "data": {
      "text/html": [
       "<div>\n",
       "<style scoped>\n",
       "    .dataframe tbody tr th:only-of-type {\n",
       "        vertical-align: middle;\n",
       "    }\n",
       "\n",
       "    .dataframe tbody tr th {\n",
       "        vertical-align: top;\n",
       "    }\n",
       "\n",
       "    .dataframe thead th {\n",
       "        text-align: right;\n",
       "    }\n",
       "</style>\n",
       "<table border=\"1\" class=\"dataframe\">\n",
       "  <thead>\n",
       "    <tr style=\"text-align: right;\">\n",
       "      <th></th>\n",
       "      <th>cast_size</th>\n",
       "    </tr>\n",
       "  </thead>\n",
       "  <tbody>\n",
       "    <tr>\n",
       "      <th>count</th>\n",
       "      <td>4803.000000</td>\n",
       "    </tr>\n",
       "    <tr>\n",
       "      <th>mean</th>\n",
       "      <td>22.123048</td>\n",
       "    </tr>\n",
       "    <tr>\n",
       "      <th>std</th>\n",
       "      <td>19.582493</td>\n",
       "    </tr>\n",
       "    <tr>\n",
       "      <th>min</th>\n",
       "      <td>0.000000</td>\n",
       "    </tr>\n",
       "    <tr>\n",
       "      <th>25%</th>\n",
       "      <td>11.000000</td>\n",
       "    </tr>\n",
       "    <tr>\n",
       "      <th>50%</th>\n",
       "      <td>16.000000</td>\n",
       "    </tr>\n",
       "    <tr>\n",
       "      <th>75%</th>\n",
       "      <td>25.000000</td>\n",
       "    </tr>\n",
       "    <tr>\n",
       "      <th>max</th>\n",
       "      <td>224.000000</td>\n",
       "    </tr>\n",
       "  </tbody>\n",
       "</table>\n",
       "</div>"
      ],
      "text/plain": [
       "         cast_size\n",
       "count  4803.000000\n",
       "mean     22.123048\n",
       "std      19.582493\n",
       "min       0.000000\n",
       "25%      11.000000\n",
       "50%      16.000000\n",
       "75%      25.000000\n",
       "max     224.000000"
      ]
     },
     "execution_count": 15,
     "metadata": {},
     "output_type": "execute_result"
    }
   ],
   "source": [
    "clean_df_1.describe()"
   ]
  },
  {
   "cell_type": "code",
   "execution_count": 16,
   "id": "f94ba8ce",
   "metadata": {
    "execution": {
     "iopub.execute_input": "2025-10-03T15:01:54.632912Z",
     "iopub.status.busy": "2025-10-03T15:01:54.632486Z",
     "iopub.status.idle": "2025-10-03T15:01:54.655410Z",
     "shell.execute_reply": "2025-10-03T15:01:54.654063Z"
    },
    "papermill": {
     "duration": 0.038751,
     "end_time": "2025-10-03T15:01:54.657603",
     "exception": false,
     "start_time": "2025-10-03T15:01:54.618852",
     "status": "completed"
    },
    "tags": []
   },
   "outputs": [
    {
     "data": {
      "text/html": [
       "<div>\n",
       "<style scoped>\n",
       "    .dataframe tbody tr th:only-of-type {\n",
       "        vertical-align: middle;\n",
       "    }\n",
       "\n",
       "    .dataframe tbody tr th {\n",
       "        vertical-align: top;\n",
       "    }\n",
       "\n",
       "    .dataframe thead th {\n",
       "        text-align: right;\n",
       "    }\n",
       "</style>\n",
       "<table border=\"1\" class=\"dataframe\">\n",
       "  <thead>\n",
       "    <tr style=\"text-align: right;\">\n",
       "      <th></th>\n",
       "      <th>runtime</th>\n",
       "      <th>budget</th>\n",
       "      <th>revenue</th>\n",
       "    </tr>\n",
       "  </thead>\n",
       "  <tbody>\n",
       "    <tr>\n",
       "      <th>count</th>\n",
       "      <td>4801.000000</td>\n",
       "      <td>4.803000e+03</td>\n",
       "      <td>4.803000e+03</td>\n",
       "    </tr>\n",
       "    <tr>\n",
       "      <th>mean</th>\n",
       "      <td>106.875859</td>\n",
       "      <td>2.904504e+07</td>\n",
       "      <td>8.226064e+07</td>\n",
       "    </tr>\n",
       "    <tr>\n",
       "      <th>std</th>\n",
       "      <td>22.611935</td>\n",
       "      <td>4.072239e+07</td>\n",
       "      <td>1.628571e+08</td>\n",
       "    </tr>\n",
       "    <tr>\n",
       "      <th>min</th>\n",
       "      <td>0.000000</td>\n",
       "      <td>0.000000e+00</td>\n",
       "      <td>0.000000e+00</td>\n",
       "    </tr>\n",
       "    <tr>\n",
       "      <th>25%</th>\n",
       "      <td>94.000000</td>\n",
       "      <td>7.900000e+05</td>\n",
       "      <td>0.000000e+00</td>\n",
       "    </tr>\n",
       "    <tr>\n",
       "      <th>50%</th>\n",
       "      <td>103.000000</td>\n",
       "      <td>1.500000e+07</td>\n",
       "      <td>1.917000e+07</td>\n",
       "    </tr>\n",
       "    <tr>\n",
       "      <th>75%</th>\n",
       "      <td>118.000000</td>\n",
       "      <td>4.000000e+07</td>\n",
       "      <td>9.291719e+07</td>\n",
       "    </tr>\n",
       "    <tr>\n",
       "      <th>max</th>\n",
       "      <td>338.000000</td>\n",
       "      <td>3.800000e+08</td>\n",
       "      <td>2.787965e+09</td>\n",
       "    </tr>\n",
       "  </tbody>\n",
       "</table>\n",
       "</div>"
      ],
      "text/plain": [
       "           runtime        budget       revenue\n",
       "count  4801.000000  4.803000e+03  4.803000e+03\n",
       "mean    106.875859  2.904504e+07  8.226064e+07\n",
       "std      22.611935  4.072239e+07  1.628571e+08\n",
       "min       0.000000  0.000000e+00  0.000000e+00\n",
       "25%      94.000000  7.900000e+05  0.000000e+00\n",
       "50%     103.000000  1.500000e+07  1.917000e+07\n",
       "75%     118.000000  4.000000e+07  9.291719e+07\n",
       "max     338.000000  3.800000e+08  2.787965e+09"
      ]
     },
     "execution_count": 16,
     "metadata": {},
     "output_type": "execute_result"
    }
   ],
   "source": [
    "clean_df_2.describe()"
   ]
  },
  {
   "cell_type": "code",
   "execution_count": 17,
   "id": "7df28990",
   "metadata": {
    "execution": {
     "iopub.execute_input": "2025-10-03T15:01:54.682990Z",
     "iopub.status.busy": "2025-10-03T15:01:54.682660Z",
     "iopub.status.idle": "2025-10-03T15:01:54.696046Z",
     "shell.execute_reply": "2025-10-03T15:01:54.694857Z"
    },
    "papermill": {
     "duration": 0.028405,
     "end_time": "2025-10-03T15:01:54.697907",
     "exception": false,
     "start_time": "2025-10-03T15:01:54.669502",
     "status": "completed"
    },
    "tags": []
   },
   "outputs": [
    {
     "data": {
      "text/plain": [
       "title         0\n",
       "top_cast      0\n",
       "cast_size     0\n",
       "director     30\n",
       "actor_1      43\n",
       "actor_2      53\n",
       "actor_3      63\n",
       "dtype: int64"
      ]
     },
     "execution_count": 17,
     "metadata": {},
     "output_type": "execute_result"
    }
   ],
   "source": [
    "clean_df_1.isna().sum()"
   ]
  },
  {
   "cell_type": "code",
   "execution_count": 18,
   "id": "86722a11",
   "metadata": {
    "execution": {
     "iopub.execute_input": "2025-10-03T15:01:54.724149Z",
     "iopub.status.busy": "2025-10-03T15:01:54.723858Z",
     "iopub.status.idle": "2025-10-03T15:01:54.734849Z",
     "shell.execute_reply": "2025-10-03T15:01:54.733633Z"
    },
    "papermill": {
     "duration": 0.026093,
     "end_time": "2025-10-03T15:01:54.736752",
     "exception": false,
     "start_time": "2025-10-03T15:01:54.710659",
     "status": "completed"
    },
    "tags": []
   },
   "outputs": [
    {
     "data": {
      "text/plain": [
       "title                   0\n",
       "genres                  0\n",
       "keywords                0\n",
       "production_companies    0\n",
       "production_countries    0\n",
       "spoken_languages        0\n",
       "runtime                 2\n",
       "budget                  0\n",
       "revenue                 0\n",
       "dtype: int64"
      ]
     },
     "execution_count": 18,
     "metadata": {},
     "output_type": "execute_result"
    }
   ],
   "source": [
    "clean_df_2.isna().sum()"
   ]
  },
  {
   "cell_type": "code",
   "execution_count": 19,
   "id": "245f2598",
   "metadata": {
    "execution": {
     "iopub.execute_input": "2025-10-03T15:01:54.762908Z",
     "iopub.status.busy": "2025-10-03T15:01:54.762595Z",
     "iopub.status.idle": "2025-10-03T15:01:54.787371Z",
     "shell.execute_reply": "2025-10-03T15:01:54.786141Z"
    },
    "papermill": {
     "duration": 0.040081,
     "end_time": "2025-10-03T15:01:54.789387",
     "exception": false,
     "start_time": "2025-10-03T15:01:54.749306",
     "status": "completed"
    },
    "tags": []
   },
   "outputs": [],
   "source": [
    "df = pd.merge(clean_df_2, clean_df_1[['title', 'actor_1', 'actor_2', 'actor_3', 'director']], on=\"title\", how=\"inner\")"
   ]
  },
  {
   "cell_type": "code",
   "execution_count": 20,
   "id": "864e8fd6",
   "metadata": {
    "execution": {
     "iopub.execute_input": "2025-10-03T15:01:54.815926Z",
     "iopub.status.busy": "2025-10-03T15:01:54.815564Z",
     "iopub.status.idle": "2025-10-03T15:01:54.836657Z",
     "shell.execute_reply": "2025-10-03T15:01:54.835451Z"
    },
    "papermill": {
     "duration": 0.036204,
     "end_time": "2025-10-03T15:01:54.838455",
     "exception": false,
     "start_time": "2025-10-03T15:01:54.802251",
     "status": "completed"
    },
    "tags": []
   },
   "outputs": [
    {
     "data": {
      "text/html": [
       "<div>\n",
       "<style scoped>\n",
       "    .dataframe tbody tr th:only-of-type {\n",
       "        vertical-align: middle;\n",
       "    }\n",
       "\n",
       "    .dataframe tbody tr th {\n",
       "        vertical-align: top;\n",
       "    }\n",
       "\n",
       "    .dataframe thead th {\n",
       "        text-align: right;\n",
       "    }\n",
       "</style>\n",
       "<table border=\"1\" class=\"dataframe\">\n",
       "  <thead>\n",
       "    <tr style=\"text-align: right;\">\n",
       "      <th></th>\n",
       "      <th>title</th>\n",
       "      <th>genres</th>\n",
       "      <th>keywords</th>\n",
       "      <th>production_companies</th>\n",
       "      <th>production_countries</th>\n",
       "      <th>spoken_languages</th>\n",
       "      <th>runtime</th>\n",
       "      <th>budget</th>\n",
       "      <th>revenue</th>\n",
       "      <th>actor_1</th>\n",
       "      <th>actor_2</th>\n",
       "      <th>actor_3</th>\n",
       "      <th>director</th>\n",
       "    </tr>\n",
       "  </thead>\n",
       "  <tbody>\n",
       "    <tr>\n",
       "      <th>0</th>\n",
       "      <td>Avatar</td>\n",
       "      <td>[Action, Adventure, Fantasy, Science Fiction]</td>\n",
       "      <td>[culture clash, future, space war, space colon...</td>\n",
       "      <td>[Ingenious Film Partners, Twentieth Century Fo...</td>\n",
       "      <td>[United States of America, United Kingdom]</td>\n",
       "      <td>[English, Español]</td>\n",
       "      <td>162.0</td>\n",
       "      <td>237000000</td>\n",
       "      <td>2787965087</td>\n",
       "      <td>Sam Worthington</td>\n",
       "      <td>Zoe Saldana</td>\n",
       "      <td>Sigourney Weaver</td>\n",
       "      <td>James Cameron</td>\n",
       "    </tr>\n",
       "    <tr>\n",
       "      <th>1</th>\n",
       "      <td>Pirates of the Caribbean: At World's End</td>\n",
       "      <td>[Adventure, Fantasy, Action]</td>\n",
       "      <td>[ocean, drug abuse, exotic island, east india ...</td>\n",
       "      <td>[Walt Disney Pictures, Jerry Bruckheimer Films...</td>\n",
       "      <td>[United States of America]</td>\n",
       "      <td>[English]</td>\n",
       "      <td>169.0</td>\n",
       "      <td>300000000</td>\n",
       "      <td>961000000</td>\n",
       "      <td>Johnny Depp</td>\n",
       "      <td>Orlando Bloom</td>\n",
       "      <td>Keira Knightley</td>\n",
       "      <td>Gore Verbinski</td>\n",
       "    </tr>\n",
       "    <tr>\n",
       "      <th>2</th>\n",
       "      <td>Spectre</td>\n",
       "      <td>[Action, Adventure, Crime]</td>\n",
       "      <td>[spy, based on novel, secret agent, sequel, mi...</td>\n",
       "      <td>[Columbia Pictures, Danjaq, B24]</td>\n",
       "      <td>[United Kingdom, United States of America]</td>\n",
       "      <td>[Français, English, Español, Italiano, Deutsch]</td>\n",
       "      <td>148.0</td>\n",
       "      <td>245000000</td>\n",
       "      <td>880674609</td>\n",
       "      <td>Daniel Craig</td>\n",
       "      <td>Christoph Waltz</td>\n",
       "      <td>Léa Seydoux</td>\n",
       "      <td>Sam Mendes</td>\n",
       "    </tr>\n",
       "    <tr>\n",
       "      <th>3</th>\n",
       "      <td>The Dark Knight Rises</td>\n",
       "      <td>[Action, Crime, Drama, Thriller]</td>\n",
       "      <td>[dc comics, crime fighter, terrorist, secret i...</td>\n",
       "      <td>[Legendary Pictures, Warner Bros., DC Entertai...</td>\n",
       "      <td>[United States of America]</td>\n",
       "      <td>[English]</td>\n",
       "      <td>165.0</td>\n",
       "      <td>250000000</td>\n",
       "      <td>1084939099</td>\n",
       "      <td>Christian Bale</td>\n",
       "      <td>Michael Caine</td>\n",
       "      <td>Gary Oldman</td>\n",
       "      <td>Christopher Nolan</td>\n",
       "    </tr>\n",
       "    <tr>\n",
       "      <th>4</th>\n",
       "      <td>John Carter</td>\n",
       "      <td>[Action, Adventure, Science Fiction]</td>\n",
       "      <td>[based on novel, mars, medallion, space travel...</td>\n",
       "      <td>[Walt Disney Pictures]</td>\n",
       "      <td>[United States of America]</td>\n",
       "      <td>[English]</td>\n",
       "      <td>132.0</td>\n",
       "      <td>260000000</td>\n",
       "      <td>284139100</td>\n",
       "      <td>Taylor Kitsch</td>\n",
       "      <td>Lynn Collins</td>\n",
       "      <td>Samantha Morton</td>\n",
       "      <td>Andrew Stanton</td>\n",
       "    </tr>\n",
       "  </tbody>\n",
       "</table>\n",
       "</div>"
      ],
      "text/plain": [
       "                                      title  \\\n",
       "0                                    Avatar   \n",
       "1  Pirates of the Caribbean: At World's End   \n",
       "2                                   Spectre   \n",
       "3                     The Dark Knight Rises   \n",
       "4                               John Carter   \n",
       "\n",
       "                                          genres  \\\n",
       "0  [Action, Adventure, Fantasy, Science Fiction]   \n",
       "1                   [Adventure, Fantasy, Action]   \n",
       "2                     [Action, Adventure, Crime]   \n",
       "3               [Action, Crime, Drama, Thriller]   \n",
       "4           [Action, Adventure, Science Fiction]   \n",
       "\n",
       "                                            keywords  \\\n",
       "0  [culture clash, future, space war, space colon...   \n",
       "1  [ocean, drug abuse, exotic island, east india ...   \n",
       "2  [spy, based on novel, secret agent, sequel, mi...   \n",
       "3  [dc comics, crime fighter, terrorist, secret i...   \n",
       "4  [based on novel, mars, medallion, space travel...   \n",
       "\n",
       "                                production_companies  \\\n",
       "0  [Ingenious Film Partners, Twentieth Century Fo...   \n",
       "1  [Walt Disney Pictures, Jerry Bruckheimer Films...   \n",
       "2                   [Columbia Pictures, Danjaq, B24]   \n",
       "3  [Legendary Pictures, Warner Bros., DC Entertai...   \n",
       "4                             [Walt Disney Pictures]   \n",
       "\n",
       "                         production_countries  \\\n",
       "0  [United States of America, United Kingdom]   \n",
       "1                  [United States of America]   \n",
       "2  [United Kingdom, United States of America]   \n",
       "3                  [United States of America]   \n",
       "4                  [United States of America]   \n",
       "\n",
       "                                  spoken_languages  runtime     budget  \\\n",
       "0                               [English, Español]    162.0  237000000   \n",
       "1                                        [English]    169.0  300000000   \n",
       "2  [Français, English, Español, Italiano, Deutsch]    148.0  245000000   \n",
       "3                                        [English]    165.0  250000000   \n",
       "4                                        [English]    132.0  260000000   \n",
       "\n",
       "      revenue          actor_1          actor_2           actor_3  \\\n",
       "0  2787965087  Sam Worthington      Zoe Saldana  Sigourney Weaver   \n",
       "1   961000000      Johnny Depp    Orlando Bloom   Keira Knightley   \n",
       "2   880674609     Daniel Craig  Christoph Waltz       Léa Seydoux   \n",
       "3  1084939099   Christian Bale    Michael Caine       Gary Oldman   \n",
       "4   284139100    Taylor Kitsch     Lynn Collins   Samantha Morton   \n",
       "\n",
       "            director  \n",
       "0      James Cameron  \n",
       "1     Gore Verbinski  \n",
       "2         Sam Mendes  \n",
       "3  Christopher Nolan  \n",
       "4     Andrew Stanton  "
      ]
     },
     "execution_count": 20,
     "metadata": {},
     "output_type": "execute_result"
    }
   ],
   "source": [
    "df.head()"
   ]
  },
  {
   "cell_type": "markdown",
   "id": "0d342bd7",
   "metadata": {
    "papermill": {
     "duration": 0.012427,
     "end_time": "2025-10-03T15:01:54.863894",
     "exception": false,
     "start_time": "2025-10-03T15:01:54.851467",
     "status": "completed"
    },
    "tags": []
   },
   "source": [
    "# **Data Preprocessing for Visualization**"
   ]
  },
  {
   "cell_type": "code",
   "execution_count": 21,
   "id": "8cf66a55",
   "metadata": {
    "execution": {
     "iopub.execute_input": "2025-10-03T15:01:54.891259Z",
     "iopub.status.busy": "2025-10-03T15:01:54.890945Z",
     "iopub.status.idle": "2025-10-03T15:01:54.909191Z",
     "shell.execute_reply": "2025-10-03T15:01:54.907977Z"
    },
    "papermill": {
     "duration": 0.034429,
     "end_time": "2025-10-03T15:01:54.911182",
     "exception": false,
     "start_time": "2025-10-03T15:01:54.876753",
     "status": "completed"
    },
    "tags": []
   },
   "outputs": [],
   "source": [
    "df['genres'] = df['genres'].apply(lambda x: \" ,\".join(x) if isinstance(x, list) else \" \")\n",
    "df['keywords'] = df['keywords'].apply(lambda x: \" ,\".join(x) if isinstance(x, list) else \" \")\n",
    "df['production_companies'] = df['production_companies'].apply(lambda x: \" ,\".join(x) if isinstance(x, list) else \" \")\n",
    "df['director'] = df['director'].fillna(\"\")"
   ]
  },
  {
   "cell_type": "code",
   "execution_count": 22,
   "id": "678c42c7",
   "metadata": {
    "execution": {
     "iopub.execute_input": "2025-10-03T15:01:54.938071Z",
     "iopub.status.busy": "2025-10-03T15:01:54.937735Z",
     "iopub.status.idle": "2025-10-03T15:01:54.944778Z",
     "shell.execute_reply": "2025-10-03T15:01:54.943754Z"
    },
    "papermill": {
     "duration": 0.022423,
     "end_time": "2025-10-03T15:01:54.946593",
     "exception": false,
     "start_time": "2025-10-03T15:01:54.924170",
     "status": "completed"
    },
    "tags": []
   },
   "outputs": [],
   "source": [
    "def clean_text_column(col):\n",
    "    return (\n",
    "        col.str.replace('\"', '', regex=False)\n",
    "           .str.replace(\"'\", '', regex=False)\n",
    "           .str.replace(\"[\\[\\]]\", '', regex=True)\n",
    "           .str.lower()\n",
    "           .str.strip()\n",
    "    )\n",
    "\n",
    "def split_and_dedup(cell):\n",
    "    if isinstance(cell, str):\n",
    "        items = [g.strip() for g in cell.split(',') if g.strip() != '']\n",
    "        return list(set(items))\n",
    "    return []"
   ]
  },
  {
   "cell_type": "code",
   "execution_count": 23,
   "id": "9a50bce7",
   "metadata": {
    "execution": {
     "iopub.execute_input": "2025-10-03T15:01:54.974833Z",
     "iopub.status.busy": "2025-10-03T15:01:54.974318Z",
     "iopub.status.idle": "2025-10-03T15:01:55.066466Z",
     "shell.execute_reply": "2025-10-03T15:01:55.065140Z"
    },
    "papermill": {
     "duration": 0.108792,
     "end_time": "2025-10-03T15:01:55.068489",
     "exception": false,
     "start_time": "2025-10-03T15:01:54.959697",
     "status": "completed"
    },
    "tags": []
   },
   "outputs": [],
   "source": [
    "for col in ['genres', 'keywords', 'production_companies']:\n",
    "    df[col] = clean_text_column(df[col])\n",
    "    df[col] = df[col].apply(split_and_dedup)\n",
    "    df[col + '_str'] = df[col].apply(lambda x: \" \".join(x))"
   ]
  },
  {
   "cell_type": "code",
   "execution_count": 24,
   "id": "a27fa518",
   "metadata": {
    "execution": {
     "iopub.execute_input": "2025-10-03T15:01:55.094748Z",
     "iopub.status.busy": "2025-10-03T15:01:55.094410Z",
     "iopub.status.idle": "2025-10-03T15:01:55.110370Z",
     "shell.execute_reply": "2025-10-03T15:01:55.109211Z"
    },
    "papermill": {
     "duration": 0.031251,
     "end_time": "2025-10-03T15:01:55.112309",
     "exception": false,
     "start_time": "2025-10-03T15:01:55.081058",
     "status": "completed"
    },
    "tags": []
   },
   "outputs": [],
   "source": [
    "actor_cols = ['actor_1', 'actor_2', 'actor_3']\n",
    "for col in actor_cols:\n",
    "    df[col] = df[col].str.lower().str.strip()"
   ]
  },
  {
   "cell_type": "code",
   "execution_count": 25,
   "id": "aed5b896",
   "metadata": {
    "execution": {
     "iopub.execute_input": "2025-10-03T15:01:55.140616Z",
     "iopub.status.busy": "2025-10-03T15:01:55.140263Z",
     "iopub.status.idle": "2025-10-03T15:01:55.188722Z",
     "shell.execute_reply": "2025-10-03T15:01:55.187536Z"
    },
    "papermill": {
     "duration": 0.065007,
     "end_time": "2025-10-03T15:01:55.190412",
     "exception": false,
     "start_time": "2025-10-03T15:01:55.125405",
     "status": "completed"
    },
    "tags": []
   },
   "outputs": [],
   "source": [
    "df['all_actors'] = df[actor_cols].apply(lambda x: [a for a in x if pd.notnull(a)], axis=1)\n",
    "\n",
    "df['director'] = df['director'].str.lower().str.strip()\n",
    "df['ROI'] = df['revenue'] / df['budget'].replace(0, np.nan)\n",
    "df['success'] = (df['ROI'] > 1.5).astype(int)"
   ]
  },
  {
   "cell_type": "code",
   "execution_count": 26,
   "id": "b2e63502",
   "metadata": {
    "execution": {
     "iopub.execute_input": "2025-10-03T15:01:55.219670Z",
     "iopub.status.busy": "2025-10-03T15:01:55.219290Z",
     "iopub.status.idle": "2025-10-03T15:01:55.230502Z",
     "shell.execute_reply": "2025-10-03T15:01:55.229619Z"
    },
    "papermill": {
     "duration": 0.027416,
     "end_time": "2025-10-03T15:01:55.232183",
     "exception": false,
     "start_time": "2025-10-03T15:01:55.204767",
     "status": "completed"
    },
    "tags": []
   },
   "outputs": [],
   "source": [
    "columns_to_drop=['genres','keywords','production_companies']\n",
    "df.drop(columns=columns_to_drop, inplace=True)\n"
   ]
  },
  {
   "cell_type": "code",
   "execution_count": 27,
   "id": "37a9bb67",
   "metadata": {
    "execution": {
     "iopub.execute_input": "2025-10-03T15:01:55.258361Z",
     "iopub.status.busy": "2025-10-03T15:01:55.258038Z",
     "iopub.status.idle": "2025-10-03T15:01:55.282090Z",
     "shell.execute_reply": "2025-10-03T15:01:55.280852Z"
    },
    "papermill": {
     "duration": 0.038857,
     "end_time": "2025-10-03T15:01:55.283602",
     "exception": false,
     "start_time": "2025-10-03T15:01:55.244745",
     "status": "completed"
    },
    "tags": []
   },
   "outputs": [
    {
     "data": {
      "text/html": [
       "<div>\n",
       "<style scoped>\n",
       "    .dataframe tbody tr th:only-of-type {\n",
       "        vertical-align: middle;\n",
       "    }\n",
       "\n",
       "    .dataframe tbody tr th {\n",
       "        vertical-align: top;\n",
       "    }\n",
       "\n",
       "    .dataframe thead th {\n",
       "        text-align: right;\n",
       "    }\n",
       "</style>\n",
       "<table border=\"1\" class=\"dataframe\">\n",
       "  <thead>\n",
       "    <tr style=\"text-align: right;\">\n",
       "      <th></th>\n",
       "      <th>title</th>\n",
       "      <th>production_countries</th>\n",
       "      <th>spoken_languages</th>\n",
       "      <th>runtime</th>\n",
       "      <th>budget</th>\n",
       "      <th>revenue</th>\n",
       "      <th>actor_1</th>\n",
       "      <th>actor_2</th>\n",
       "      <th>actor_3</th>\n",
       "      <th>director</th>\n",
       "      <th>genres_str</th>\n",
       "      <th>keywords_str</th>\n",
       "      <th>production_companies_str</th>\n",
       "      <th>all_actors</th>\n",
       "      <th>ROI</th>\n",
       "      <th>success</th>\n",
       "    </tr>\n",
       "  </thead>\n",
       "  <tbody>\n",
       "    <tr>\n",
       "      <th>0</th>\n",
       "      <td>Avatar</td>\n",
       "      <td>[United States of America, United Kingdom]</td>\n",
       "      <td>[English, Español]</td>\n",
       "      <td>162.0</td>\n",
       "      <td>237000000</td>\n",
       "      <td>2787965087</td>\n",
       "      <td>sam worthington</td>\n",
       "      <td>zoe saldana</td>\n",
       "      <td>sigourney weaver</td>\n",
       "      <td>james cameron</td>\n",
       "      <td>fantasy adventure action science fiction</td>\n",
       "      <td>soldier anti war love affair mind and soul spa...</td>\n",
       "      <td>twentieth century fox film corporation dune en...</td>\n",
       "      <td>[sam worthington, zoe saldana, sigourney weaver]</td>\n",
       "      <td>11.763566</td>\n",
       "      <td>1</td>\n",
       "    </tr>\n",
       "    <tr>\n",
       "      <th>1</th>\n",
       "      <td>Pirates of the Caribbean: At World's End</td>\n",
       "      <td>[United States of America]</td>\n",
       "      <td>[English]</td>\n",
       "      <td>169.0</td>\n",
       "      <td>300000000</td>\n",
       "      <td>961000000</td>\n",
       "      <td>johnny depp</td>\n",
       "      <td>orlando bloom</td>\n",
       "      <td>keira knightley</td>\n",
       "      <td>gore verbinski</td>\n",
       "      <td>fantasy adventure action</td>\n",
       "      <td>shipwreck drug abuse swashbuckler afterlife ex...</td>\n",
       "      <td>second mate productions jerry bruckheimer film...</td>\n",
       "      <td>[johnny depp, orlando bloom, keira knightley]</td>\n",
       "      <td>3.203333</td>\n",
       "      <td>1</td>\n",
       "    </tr>\n",
       "    <tr>\n",
       "      <th>2</th>\n",
       "      <td>Spectre</td>\n",
       "      <td>[United Kingdom, United States of America]</td>\n",
       "      <td>[Français, English, Español, Italiano, Deutsch]</td>\n",
       "      <td>148.0</td>\n",
       "      <td>245000000</td>\n",
       "      <td>880674609</td>\n",
       "      <td>daniel craig</td>\n",
       "      <td>christoph waltz</td>\n",
       "      <td>léa seydoux</td>\n",
       "      <td>sam mendes</td>\n",
       "      <td>crime adventure action</td>\n",
       "      <td>secret agent british secret service sequel bas...</td>\n",
       "      <td>columbia pictures b24 danjaq</td>\n",
       "      <td>[daniel craig, christoph waltz, léa seydoux]</td>\n",
       "      <td>3.594590</td>\n",
       "      <td>1</td>\n",
       "    </tr>\n",
       "    <tr>\n",
       "      <th>3</th>\n",
       "      <td>The Dark Knight Rises</td>\n",
       "      <td>[United States of America]</td>\n",
       "      <td>[English]</td>\n",
       "      <td>165.0</td>\n",
       "      <td>250000000</td>\n",
       "      <td>1084939099</td>\n",
       "      <td>christian bale</td>\n",
       "      <td>michael caine</td>\n",
       "      <td>gary oldman</td>\n",
       "      <td>christopher nolan</td>\n",
       "      <td>thriller crime action drama</td>\n",
       "      <td>tragic hero hostage drama destruction dc comic...</td>\n",
       "      <td>dc entertainment legendary pictures warner bro...</td>\n",
       "      <td>[christian bale, michael caine, gary oldman]</td>\n",
       "      <td>4.339756</td>\n",
       "      <td>1</td>\n",
       "    </tr>\n",
       "    <tr>\n",
       "      <th>4</th>\n",
       "      <td>John Carter</td>\n",
       "      <td>[United States of America]</td>\n",
       "      <td>[English]</td>\n",
       "      <td>132.0</td>\n",
       "      <td>260000000</td>\n",
       "      <td>284139100</td>\n",
       "      <td>taylor kitsch</td>\n",
       "      <td>lynn collins</td>\n",
       "      <td>samantha morton</td>\n",
       "      <td>andrew stanton</td>\n",
       "      <td>adventure action science fiction</td>\n",
       "      <td>escape mars medallion 19th century sword and p...</td>\n",
       "      <td>walt disney pictures</td>\n",
       "      <td>[taylor kitsch, lynn collins, samantha morton]</td>\n",
       "      <td>1.092843</td>\n",
       "      <td>0</td>\n",
       "    </tr>\n",
       "    <tr>\n",
       "      <th>5</th>\n",
       "      <td>Spider-Man 3</td>\n",
       "      <td>[United States of America]</td>\n",
       "      <td>[English, Français]</td>\n",
       "      <td>139.0</td>\n",
       "      <td>258000000</td>\n",
       "      <td>890871626</td>\n",
       "      <td>tobey maguire</td>\n",
       "      <td>kirsten dunst</td>\n",
       "      <td>james franco</td>\n",
       "      <td>sam raimi</td>\n",
       "      <td>fantasy adventure action</td>\n",
       "      <td>hostility marvel comic sandstorm dual identity...</td>\n",
       "      <td>columbia pictures laura ziskin productions mar...</td>\n",
       "      <td>[tobey maguire, kirsten dunst, james franco]</td>\n",
       "      <td>3.452991</td>\n",
       "      <td>1</td>\n",
       "    </tr>\n",
       "    <tr>\n",
       "      <th>6</th>\n",
       "      <td>Tangled</td>\n",
       "      <td>[United States of America]</td>\n",
       "      <td>[English]</td>\n",
       "      <td>100.0</td>\n",
       "      <td>260000000</td>\n",
       "      <td>591794936</td>\n",
       "      <td>zachary levi</td>\n",
       "      <td>mandy moore</td>\n",
       "      <td>donna murphy</td>\n",
       "      <td>byron howard</td>\n",
       "      <td>animation family</td>\n",
       "      <td>musical selfishness healing gift magic animal ...</td>\n",
       "      <td>walt disney animation studios walt disney pict...</td>\n",
       "      <td>[zachary levi, mandy moore, donna murphy]</td>\n",
       "      <td>2.276134</td>\n",
       "      <td>1</td>\n",
       "    </tr>\n",
       "    <tr>\n",
       "      <th>7</th>\n",
       "      <td>Avengers: Age of Ultron</td>\n",
       "      <td>[United States of America]</td>\n",
       "      <td>[English]</td>\n",
       "      <td>141.0</td>\n",
       "      <td>280000000</td>\n",
       "      <td>1405403694</td>\n",
       "      <td>robert downey jr.</td>\n",
       "      <td>chris hemsworth</td>\n",
       "      <td>mark ruffalo</td>\n",
       "      <td>joss whedon</td>\n",
       "      <td>adventure action science fiction</td>\n",
       "      <td>marvel comic superhero team marvel cinematic u...</td>\n",
       "      <td>prime focus marvel studios revolution sun studios</td>\n",
       "      <td>[robert downey jr., chris hemsworth, mark ruff...</td>\n",
       "      <td>5.019299</td>\n",
       "      <td>1</td>\n",
       "    </tr>\n",
       "    <tr>\n",
       "      <th>8</th>\n",
       "      <td>Harry Potter and the Half-Blood Prince</td>\n",
       "      <td>[United Kingdom, United States of America]</td>\n",
       "      <td>[English]</td>\n",
       "      <td>153.0</td>\n",
       "      <td>250000000</td>\n",
       "      <td>933959197</td>\n",
       "      <td>daniel radcliffe</td>\n",
       "      <td>rupert grint</td>\n",
       "      <td>emma watson</td>\n",
       "      <td>david yates</td>\n",
       "      <td>fantasy adventure family</td>\n",
       "      <td>school of witchcraft wizardry magic broom teen...</td>\n",
       "      <td>warner bros. heyday films</td>\n",
       "      <td>[daniel radcliffe, rupert grint, emma watson]</td>\n",
       "      <td>3.735837</td>\n",
       "      <td>1</td>\n",
       "    </tr>\n",
       "    <tr>\n",
       "      <th>9</th>\n",
       "      <td>Batman v Superman: Dawn of Justice</td>\n",
       "      <td>[United States of America]</td>\n",
       "      <td>[English]</td>\n",
       "      <td>151.0</td>\n",
       "      <td>250000000</td>\n",
       "      <td>873260194</td>\n",
       "      <td>ben affleck</td>\n",
       "      <td>henry cavill</td>\n",
       "      <td>gal gadot</td>\n",
       "      <td>zack snyder</td>\n",
       "      <td>fantasy adventure action</td>\n",
       "      <td>vigilante clark kent dc comics based on comic ...</td>\n",
       "      <td>dc comics warner bros. cruel &amp; unusual films a...</td>\n",
       "      <td>[ben affleck, henry cavill, gal gadot]</td>\n",
       "      <td>3.493041</td>\n",
       "      <td>1</td>\n",
       "    </tr>\n",
       "  </tbody>\n",
       "</table>\n",
       "</div>"
      ],
      "text/plain": [
       "                                      title  \\\n",
       "0                                    Avatar   \n",
       "1  Pirates of the Caribbean: At World's End   \n",
       "2                                   Spectre   \n",
       "3                     The Dark Knight Rises   \n",
       "4                               John Carter   \n",
       "5                              Spider-Man 3   \n",
       "6                                   Tangled   \n",
       "7                   Avengers: Age of Ultron   \n",
       "8    Harry Potter and the Half-Blood Prince   \n",
       "9        Batman v Superman: Dawn of Justice   \n",
       "\n",
       "                         production_countries  \\\n",
       "0  [United States of America, United Kingdom]   \n",
       "1                  [United States of America]   \n",
       "2  [United Kingdom, United States of America]   \n",
       "3                  [United States of America]   \n",
       "4                  [United States of America]   \n",
       "5                  [United States of America]   \n",
       "6                  [United States of America]   \n",
       "7                  [United States of America]   \n",
       "8  [United Kingdom, United States of America]   \n",
       "9                  [United States of America]   \n",
       "\n",
       "                                  spoken_languages  runtime     budget  \\\n",
       "0                               [English, Español]    162.0  237000000   \n",
       "1                                        [English]    169.0  300000000   \n",
       "2  [Français, English, Español, Italiano, Deutsch]    148.0  245000000   \n",
       "3                                        [English]    165.0  250000000   \n",
       "4                                        [English]    132.0  260000000   \n",
       "5                              [English, Français]    139.0  258000000   \n",
       "6                                        [English]    100.0  260000000   \n",
       "7                                        [English]    141.0  280000000   \n",
       "8                                        [English]    153.0  250000000   \n",
       "9                                        [English]    151.0  250000000   \n",
       "\n",
       "      revenue            actor_1          actor_2           actor_3  \\\n",
       "0  2787965087    sam worthington      zoe saldana  sigourney weaver   \n",
       "1   961000000        johnny depp    orlando bloom   keira knightley   \n",
       "2   880674609       daniel craig  christoph waltz       léa seydoux   \n",
       "3  1084939099     christian bale    michael caine       gary oldman   \n",
       "4   284139100      taylor kitsch     lynn collins   samantha morton   \n",
       "5   890871626      tobey maguire    kirsten dunst      james franco   \n",
       "6   591794936       zachary levi      mandy moore      donna murphy   \n",
       "7  1405403694  robert downey jr.  chris hemsworth      mark ruffalo   \n",
       "8   933959197   daniel radcliffe     rupert grint       emma watson   \n",
       "9   873260194        ben affleck     henry cavill         gal gadot   \n",
       "\n",
       "            director                                genres_str  \\\n",
       "0      james cameron  fantasy adventure action science fiction   \n",
       "1     gore verbinski                  fantasy adventure action   \n",
       "2         sam mendes                    crime adventure action   \n",
       "3  christopher nolan               thriller crime action drama   \n",
       "4     andrew stanton          adventure action science fiction   \n",
       "5          sam raimi                  fantasy adventure action   \n",
       "6       byron howard                          animation family   \n",
       "7        joss whedon          adventure action science fiction   \n",
       "8        david yates                  fantasy adventure family   \n",
       "9        zack snyder                  fantasy adventure action   \n",
       "\n",
       "                                        keywords_str  \\\n",
       "0  soldier anti war love affair mind and soul spa...   \n",
       "1  shipwreck drug abuse swashbuckler afterlife ex...   \n",
       "2  secret agent british secret service sequel bas...   \n",
       "3  tragic hero hostage drama destruction dc comic...   \n",
       "4  escape mars medallion 19th century sword and p...   \n",
       "5  hostility marvel comic sandstorm dual identity...   \n",
       "6  musical selfishness healing gift magic animal ...   \n",
       "7  marvel comic superhero team marvel cinematic u...   \n",
       "8  school of witchcraft wizardry magic broom teen...   \n",
       "9  vigilante clark kent dc comics based on comic ...   \n",
       "\n",
       "                            production_companies_str  \\\n",
       "0  twentieth century fox film corporation dune en...   \n",
       "1  second mate productions jerry bruckheimer film...   \n",
       "2                       columbia pictures b24 danjaq   \n",
       "3  dc entertainment legendary pictures warner bro...   \n",
       "4                               walt disney pictures   \n",
       "5  columbia pictures laura ziskin productions mar...   \n",
       "6  walt disney animation studios walt disney pict...   \n",
       "7  prime focus marvel studios revolution sun studios   \n",
       "8                          warner bros. heyday films   \n",
       "9  dc comics warner bros. cruel & unusual films a...   \n",
       "\n",
       "                                          all_actors        ROI  success  \n",
       "0   [sam worthington, zoe saldana, sigourney weaver]  11.763566        1  \n",
       "1      [johnny depp, orlando bloom, keira knightley]   3.203333        1  \n",
       "2       [daniel craig, christoph waltz, léa seydoux]   3.594590        1  \n",
       "3       [christian bale, michael caine, gary oldman]   4.339756        1  \n",
       "4     [taylor kitsch, lynn collins, samantha morton]   1.092843        0  \n",
       "5       [tobey maguire, kirsten dunst, james franco]   3.452991        1  \n",
       "6          [zachary levi, mandy moore, donna murphy]   2.276134        1  \n",
       "7  [robert downey jr., chris hemsworth, mark ruff...   5.019299        1  \n",
       "8      [daniel radcliffe, rupert grint, emma watson]   3.735837        1  \n",
       "9             [ben affleck, henry cavill, gal gadot]   3.493041        1  "
      ]
     },
     "execution_count": 27,
     "metadata": {},
     "output_type": "execute_result"
    }
   ],
   "source": [
    "df.head(10)"
   ]
  },
  {
   "cell_type": "markdown",
   "id": "a21d3da4",
   "metadata": {
    "papermill": {
     "duration": 0.012674,
     "end_time": "2025-10-03T15:01:55.309550",
     "exception": false,
     "start_time": "2025-10-03T15:01:55.296876",
     "status": "completed"
    },
    "tags": []
   },
   "source": [
    "# **Exploratory Data Analysis**"
   ]
  },
  {
   "cell_type": "code",
   "execution_count": 28,
   "id": "e47c7b22",
   "metadata": {
    "execution": {
     "iopub.execute_input": "2025-10-03T15:01:55.360146Z",
     "iopub.status.busy": "2025-10-03T15:01:55.359389Z",
     "iopub.status.idle": "2025-10-03T15:01:56.221383Z",
     "shell.execute_reply": "2025-10-03T15:01:56.220071Z"
    },
    "papermill": {
     "duration": 0.898812,
     "end_time": "2025-10-03T15:01:56.223658",
     "exception": false,
     "start_time": "2025-10-03T15:01:55.324846",
     "status": "completed"
    },
    "tags": []
   },
   "outputs": [
    {
     "data": {
      "image/png": "[encoded data removed]",
      "text/plain": [
       "<Figure size 800x500 with 1 Axes>"
      ]
     },
     "metadata": {},
     "output_type": "display_data"
    },
    {
     "data": {
      "image/png": "[encoded data removed]",
      "text/plain": [
       "<Figure size 800x500 with 1 Axes>"
      ]
     },
     "metadata": {},
     "output_type": "display_data"
    }
   ],
   "source": [
    "\n",
    "plt.figure(figsize=(8,5))\n",
    "sns.histplot(df['budget'], bins=50, kde=True, color=\"blue\")\n",
    "plt.title(\"Budget Distribution\")\n",
    "plt.xlabel(\"Budget\")\n",
    "plt.ylabel(\"Count\")\n",
    "plt.show()\n",
    "\n",
    "plt.figure(figsize=(8,5))\n",
    "sns.histplot(df['revenue'], bins=50, kde=True, color=\"green\")\n",
    "plt.title(\"Revenue Distribution\")\n",
    "plt.xlabel(\"Revenue\")\n",
    "plt.ylabel(\"Count\")\n",
    "plt.show()\n"
   ]
  },
  {
   "cell_type": "code",
   "execution_count": 29,
   "id": "367eb612",
   "metadata": {
    "execution": {
     "iopub.execute_input": "2025-10-03T15:01:56.257582Z",
     "iopub.status.busy": "2025-10-03T15:01:56.257209Z",
     "iopub.status.idle": "2025-10-03T15:01:56.538242Z",
     "shell.execute_reply": "2025-10-03T15:01:56.536847Z"
    },
    "papermill": {
     "duration": 0.301135,
     "end_time": "2025-10-03T15:01:56.540408",
     "exception": false,
     "start_time": "2025-10-03T15:01:56.239273",
     "status": "completed"
    },
    "tags": []
   },
   "outputs": [
    {
     "data": {
      "image/png": "[encoded data removed]",
      "text/plain": [
       "<Figure size 800x600 with 1 Axes>"
      ]
     },
     "metadata": {},
     "output_type": "display_data"
    }
   ],
   "source": [
    "plt.figure(figsize=(8,6))\n",
    "sns.scatterplot(x=df['budget'], y=df['revenue'], alpha=0.5)\n",
    "plt.title(\"Budget vs Revenue\")\n",
    "plt.xlabel(\"Budget\")\n",
    "plt.ylabel(\"Revenue\")\n",
    "plt.show()\n"
   ]
  },
  {
   "cell_type": "code",
   "execution_count": 30,
   "id": "10983351",
   "metadata": {
    "execution": {
     "iopub.execute_input": "2025-10-03T15:01:56.578501Z",
     "iopub.status.busy": "2025-10-03T15:01:56.578149Z",
     "iopub.status.idle": "2025-10-03T15:01:56.722927Z",
     "shell.execute_reply": "2025-10-03T15:01:56.721593Z"
    },
    "papermill": {
     "duration": 0.165916,
     "end_time": "2025-10-03T15:01:56.724815",
     "exception": false,
     "start_time": "2025-10-03T15:01:56.558899",
     "status": "completed"
    },
    "tags": []
   },
   "outputs": [
    {
     "data": {
      "image/png": "[encoded data removed]",
      "text/plain": [
       "<Figure size 600x400 with 1 Axes>"
      ]
     },
     "metadata": {},
     "output_type": "display_data"
    }
   ],
   "source": [
    "plt.figure(figsize=(6,4))\n",
    "sns.countplot(x='success', data=df, palette=\"Set2\")\n",
    "plt.title(\"Success vs Failure\")\n",
    "plt.xlabel(\"Success (1=Yes, 0=No)\")\n",
    "plt.ylabel(\"Count\")\n",
    "plt.show()\n"
   ]
  },
  {
   "cell_type": "code",
   "execution_count": 31,
   "id": "362664a3",
   "metadata": {
    "execution": {
     "iopub.execute_input": "2025-10-03T15:01:56.763980Z",
     "iopub.status.busy": "2025-10-03T15:01:56.763657Z",
     "iopub.status.idle": "2025-10-03T15:01:57.007878Z",
     "shell.execute_reply": "2025-10-03T15:01:57.006679Z"
    },
    "papermill": {
     "duration": 0.266308,
     "end_time": "2025-10-03T15:01:57.009535",
     "exception": false,
     "start_time": "2025-10-03T15:01:56.743227",
     "status": "completed"
    },
    "tags": []
   },
   "outputs": [
    {
     "data": {
      "image/png": "[encoded data removed]",
      "text/plain": [
       "<Figure size 1000x600 with 1 Axes>"
      ]
     },
     "metadata": {},
     "output_type": "display_data"
    }
   ],
   "source": [
    "plt.figure(figsize=(10,6))\n",
    "sns.barplot(x=df['genres_str'].str.split().explode().value_counts().head(10).index,\n",
    "            y=df['genres_str'].str.split().explode().value_counts().head(10).values,\n",
    "            palette=\"viridis\")\n",
    "plt.title(\"Top 10 Genres Frequency\")\n",
    "plt.xlabel(\"Genre\")\n",
    "plt.ylabel(\"Count\")\n",
    "plt.xticks(rotation=45)\n",
    "plt.show()\n"
   ]
  },
  {
   "cell_type": "code",
   "execution_count": 32,
   "id": "c61bfa0a",
   "metadata": {
    "execution": {
     "iopub.execute_input": "2025-10-03T15:01:57.050408Z",
     "iopub.status.busy": "2025-10-03T15:01:57.050054Z",
     "iopub.status.idle": "2025-10-03T15:01:57.292141Z",
     "shell.execute_reply": "2025-10-03T15:01:57.291084Z"
    },
    "papermill": {
     "duration": 0.264266,
     "end_time": "2025-10-03T15:01:57.293893",
     "exception": false,
     "start_time": "2025-10-03T15:01:57.029627",
     "status": "completed"
    },
    "tags": []
   },
   "outputs": [
    {
     "data": {
      "image/png": "[encoded data removed]",
      "text/plain": [
       "<Figure size 1000x500 with 1 Axes>"
      ]
     },
     "metadata": {},
     "output_type": "display_data"
    }
   ],
   "source": [
    "top_directors = df.groupby(\"director\")['success'].mean().sort_values(ascending=False).head(10)\n",
    "\n",
    "plt.figure(figsize=(10,5))\n",
    "sns.barplot(x=top_directors.index, y=top_directors.values, palette=\"coolwarm\")\n",
    "plt.title(\"Top Directors by Success Rate\")\n",
    "plt.ylabel(\"Success Rate\")\n",
    "plt.xticks(rotation=45)\n",
    "plt.show()\n"
   ]
  },
  {
   "cell_type": "code",
   "execution_count": 33,
   "id": "c35adb20",
   "metadata": {
    "execution": {
     "iopub.execute_input": "2025-10-03T15:01:57.335264Z",
     "iopub.status.busy": "2025-10-03T15:01:57.334735Z",
     "iopub.status.idle": "2025-10-03T15:01:57.575725Z",
     "shell.execute_reply": "2025-10-03T15:01:57.574719Z"
    },
    "papermill": {
     "duration": 0.263749,
     "end_time": "2025-10-03T15:01:57.577806",
     "exception": false,
     "start_time": "2025-10-03T15:01:57.314057",
     "status": "completed"
    },
    "tags": []
   },
   "outputs": [
    {
     "data": {
      "image/png": "[encoded data removed]",
      "text/plain": [
       "<Figure size 1000x500 with 1 Axes>"
      ]
     },
     "metadata": {},
     "output_type": "display_data"
    }
   ],
   "source": [
    "top_actors = df.groupby(\"actor_1\")['revenue'].mean().sort_values(ascending=False).head(10)\n",
    "\n",
    "plt.figure(figsize=(10,5))\n",
    "sns.barplot(x=top_actors.index, y=top_actors.values, palette=\"magma\")\n",
    "plt.title(\"Top Actors by Average Revenue\")\n",
    "plt.ylabel(\"Average Revenue\")\n",
    "plt.xticks(rotation=45)\n",
    "plt.show()\n"
   ]
  },
  {
   "cell_type": "code",
   "execution_count": 34,
   "id": "4341dae5",
   "metadata": {
    "execution": {
     "iopub.execute_input": "2025-10-03T15:01:57.623158Z",
     "iopub.status.busy": "2025-10-03T15:01:57.622840Z",
     "iopub.status.idle": "2025-10-03T15:01:57.648627Z",
     "shell.execute_reply": "2025-10-03T15:01:57.647491Z"
    },
    "papermill": {
     "duration": 0.050939,
     "end_time": "2025-10-03T15:01:57.650488",
     "exception": false,
     "start_time": "2025-10-03T15:01:57.599549",
     "status": "completed"
    },
    "tags": []
   },
   "outputs": [
    {
     "data": {
      "text/plain": [
       "title\n",
       "Avatar                        2787965087\n",
       "Titanic                       1845034188\n",
       "The Avengers                  1519557910\n",
       "Jurassic World                1513528810\n",
       "Furious 7                     1506249360\n",
       "Avengers: Age of Ultron       1405403694\n",
       "Frozen                        1274219009\n",
       "Iron Man 3                    1215439994\n",
       "Minions                       1156730962\n",
       "Captain America: Civil War    1153304495\n",
       "Name: revenue, dtype: int64"
      ]
     },
     "execution_count": 34,
     "metadata": {},
     "output_type": "execute_result"
    }
   ],
   "source": [
    "movies_rev = df.groupby(['title']).sum()['revenue']\n",
    "movies_rev = movies_rev.sort_values(ascending = False)\n",
    "movies_rev.head(10)"
   ]
  },
  {
   "cell_type": "code",
   "execution_count": 35,
   "id": "09911029",
   "metadata": {
    "execution": {
     "iopub.execute_input": "2025-10-03T15:01:57.694414Z",
     "iopub.status.busy": "2025-10-03T15:01:57.694013Z",
     "iopub.status.idle": "2025-10-03T15:01:58.097801Z",
     "shell.execute_reply": "2025-10-03T15:01:58.096681Z"
    },
    "papermill": {
     "duration": 0.427764,
     "end_time": "2025-10-03T15:01:58.099431",
     "exception": false,
     "start_time": "2025-10-03T15:01:57.671667",
     "status": "completed"
    },
    "tags": []
   },
   "outputs": [
    {
     "data": {
      "image/png": "[encoded data removed]",
      "text/plain": [
       "<Figure size 640x480 with 1 Axes>"
      ]
     },
     "metadata": {},
     "output_type": "display_data"
    }
   ],
   "source": [
    "most_10_rev = movies_rev.head(10)\n",
    "most_10_rev.plot(kind= 'bar')\n",
    "plt.title('Most 10 Revenue Movies')\n",
    "plt.xlabel('Movie Name')\n",
    "plt.ylabel('Total Revenue')\n",
    "plt.show()"
   ]
  },
  {
   "cell_type": "code",
   "execution_count": 36,
   "id": "49309901",
   "metadata": {
    "execution": {
     "iopub.execute_input": "2025-10-03T15:01:58.148790Z",
     "iopub.status.busy": "2025-10-03T15:01:58.148387Z",
     "iopub.status.idle": "2025-10-03T15:01:58.405151Z",
     "shell.execute_reply": "2025-10-03T15:01:58.404076Z"
    },
    "papermill": {
     "duration": 0.283022,
     "end_time": "2025-10-03T15:01:58.407001",
     "exception": false,
     "start_time": "2025-10-03T15:01:58.123979",
     "status": "completed"
    },
    "tags": []
   },
   "outputs": [
    {
     "data": {
      "image/png": "[encoded data removed]",
      "text/plain": [
       "<Figure size 640x480 with 1 Axes>"
      ]
     },
     "metadata": {},
     "output_type": "display_data"
    }
   ],
   "source": [
    "least_10_rev = movies_rev.tail(10)\n",
    "least_10_rev.plot(kind= 'bar')\n",
    "plt.title('Least 10 Revenue Movies')\n",
    "plt.xlabel('Movie Name')\n",
    "plt.ylabel('Total Revenue')\n",
    "plt.show()"
   ]
  },
  {
   "cell_type": "code",
   "execution_count": 37,
   "id": "a0ff0d9c",
   "metadata": {
    "execution": {
     "iopub.execute_input": "2025-10-03T15:01:58.457081Z",
     "iopub.status.busy": "2025-10-03T15:01:58.456713Z",
     "iopub.status.idle": "2025-10-03T15:01:58.492118Z",
     "shell.execute_reply": "2025-10-03T15:01:58.490923Z"
    },
    "papermill": {
     "duration": 0.063332,
     "end_time": "2025-10-03T15:01:58.493976",
     "exception": false,
     "start_time": "2025-10-03T15:01:58.430644",
     "status": "completed"
    },
    "tags": []
   },
   "outputs": [
    {
     "data": {
      "text/plain": [
       "actor_1\n",
       "tom cruise           7570390285\n",
       "tom hanks            7330446178\n",
       "robert downey jr.    6469496153\n",
       "johnny depp          6319730820\n",
       "will smith           5859431885\n",
       "daniel radcliffe     5538792293\n",
       "ben stiller          5232397222\n",
       "bruce willis         4875181368\n",
       "leonardo dicaprio    4069408116\n",
       "christian bale       3916471019\n",
       "Name: revenue, dtype: int64"
      ]
     },
     "execution_count": 37,
     "metadata": {},
     "output_type": "execute_result"
    }
   ],
   "source": [
    "actor_rev = df.groupby(['actor_1']).sum()['revenue']\n",
    "actor_rev = actor_rev.sort_values(ascending = False)\n",
    "actor_rev.head(10)"
   ]
  },
  {
   "cell_type": "code",
   "execution_count": 38,
   "id": "4a7fefbe",
   "metadata": {
    "execution": {
     "iopub.execute_input": "2025-10-03T15:01:58.543096Z",
     "iopub.status.busy": "2025-10-03T15:01:58.542781Z",
     "iopub.status.idle": "2025-10-03T15:01:58.777744Z",
     "shell.execute_reply": "2025-10-03T15:01:58.776361Z"
    },
    "papermill": {
     "duration": 0.261568,
     "end_time": "2025-10-03T15:01:58.779642",
     "exception": false,
     "start_time": "2025-10-03T15:01:58.518074",
     "status": "completed"
    },
    "tags": []
   },
   "outputs": [
    {
     "data": {
      "image/png": "[encoded data removed]",
      "text/plain": [
       "<Figure size 640x480 with 1 Axes>"
      ]
     },
     "metadata": {},
     "output_type": "display_data"
    }
   ],
   "source": [
    "most_10_actor_rev = actor_rev.head(10)\n",
    "most_10_actor_rev.plot(kind = 'bar')\n",
    "plt.title('Most Success Actors')\n",
    "plt.xlabel('Actors')\n",
    "plt.ylabel('Revenue')\n",
    "plt.show()"
   ]
  },
  {
   "cell_type": "code",
   "execution_count": 39,
   "id": "797ced59",
   "metadata": {
    "execution": {
     "iopub.execute_input": "2025-10-03T15:01:58.831206Z",
     "iopub.status.busy": "2025-10-03T15:01:58.830853Z",
     "iopub.status.idle": "2025-10-03T15:01:59.636043Z",
     "shell.execute_reply": "2025-10-03T15:01:59.634973Z"
    },
    "papermill": {
     "duration": 0.831717,
     "end_time": "2025-10-03T15:01:59.637500",
     "exception": false,
     "start_time": "2025-10-03T15:01:58.805783",
     "status": "completed"
    },
    "tags": []
   },
   "outputs": [
    {
     "data": {
      "image/png": "[encoded data removed]",
      "text/plain": [
       "<Figure size 1200x800 with 6 Axes>"
      ]
     },
     "metadata": {},
     "output_type": "display_data"
    }
   ],
   "source": [
    "df.hist(figsize=(12,8))\n",
    "plt.show()"
   ]
  },
  {
   "cell_type": "code",
   "execution_count": 40,
   "id": "147d00da",
   "metadata": {
    "execution": {
     "iopub.execute_input": "2025-10-03T15:01:59.692598Z",
     "iopub.status.busy": "2025-10-03T15:01:59.692213Z",
     "iopub.status.idle": "2025-10-03T15:01:59.962148Z",
     "shell.execute_reply": "2025-10-03T15:01:59.960568Z"
    },
    "papermill": {
     "duration": 0.299336,
     "end_time": "2025-10-03T15:01:59.963961",
     "exception": false,
     "start_time": "2025-10-03T15:01:59.664625",
     "status": "completed"
    },
    "tags": []
   },
   "outputs": [
    {
     "data": {
      "image/png": "[encoded data removed]",
      "text/plain": [
       "<Figure size 1000x600 with 2 Axes>"
      ]
     },
     "metadata": {},
     "output_type": "display_data"
    }
   ],
   "source": [
    "corr = df.corr(numeric_only=True)\n",
    "plt.figure(figsize=(10,6))\n",
    "sns.heatmap(corr, annot=True, cmap=\"coolwarm\")\n",
    "plt.show()"
   ]
  },
  {
   "cell_type": "code",
   "execution_count": 41,
   "id": "f3943099",
   "metadata": {
    "execution": {
     "iopub.execute_input": "2025-10-03T15:02:00.023283Z",
     "iopub.status.busy": "2025-10-03T15:02:00.022949Z",
     "iopub.status.idle": "2025-10-03T15:02:00.032070Z",
     "shell.execute_reply": "2025-10-03T15:02:00.030905Z"
    },
    "papermill": {
     "duration": 0.042172,
     "end_time": "2025-10-03T15:02:00.034243",
     "exception": false,
     "start_time": "2025-10-03T15:01:59.992071",
     "status": "completed"
    },
    "tags": []
   },
   "outputs": [],
   "source": [
    "df['log_budget'] = np.log1p(df['budget'])\n",
    "df['log_revenue'] = np.log1p(df['revenue'])\n"
   ]
  },
  {
   "cell_type": "code",
   "execution_count": 42,
   "id": "2aceac03",
   "metadata": {
    "execution": {
     "iopub.execute_input": "2025-10-03T15:02:00.091594Z",
     "iopub.status.busy": "2025-10-03T15:02:00.091135Z",
     "iopub.status.idle": "2025-10-03T15:02:00.098899Z",
     "shell.execute_reply": "2025-10-03T15:02:00.097806Z"
    },
    "papermill": {
     "duration": 0.037081,
     "end_time": "2025-10-03T15:02:00.100556",
     "exception": false,
     "start_time": "2025-10-03T15:02:00.063475",
     "status": "completed"
    },
    "tags": []
   },
   "outputs": [],
   "source": [
    "df['runtime'].fillna(df['runtime'].median(), inplace=True)\n",
    "df['ROI'].fillna(df['ROI'].median(), inplace=True)   #df['ROI'].fillna(0, inplace=True) "
   ]
  },
  {
   "cell_type": "code",
   "execution_count": 43,
   "id": "d61f5dfc",
   "metadata": {
    "execution": {
     "iopub.execute_input": "2025-10-03T15:02:00.155315Z",
     "iopub.status.busy": "2025-10-03T15:02:00.154971Z",
     "iopub.status.idle": "2025-10-03T15:02:00.217948Z",
     "shell.execute_reply": "2025-10-03T15:02:00.216640Z"
    },
    "papermill": {
     "duration": 0.093211,
     "end_time": "2025-10-03T15:02:00.220555",
     "exception": false,
     "start_time": "2025-10-03T15:02:00.127344",
     "status": "completed"
    },
    "tags": []
   },
   "outputs": [],
   "source": [
    "# === A) Build global actor frequency & target dictionaries ===\n",
    "all_actors = pd.concat([df['actor_1'], df['actor_2'], df['actor_3']])\n",
    "\n",
    "# Frequency dictionary for actors\n",
    "actor_global_freq = all_actors.value_counts().to_dict()\n",
    "\n",
    "# Target dictionary for actors (average revenue per actor)\n",
    "actor_revenue_map = (\n",
    "    pd.concat([\n",
    "        df[['actor_1', 'revenue']].rename(columns={'actor_1': 'actor'}),\n",
    "        df[['actor_2', 'revenue']].rename(columns={'actor_2': 'actor'}),\n",
    "        df[['actor_3', 'revenue']].rename(columns={'actor_3': 'actor'})\n",
    "    ])\n",
    "    .groupby('actor')['revenue'].mean()\n",
    "    .to_dict()\n",
    ")\n",
    "\n",
    "# === B) Build global director frequency & target dictionaries ===\n",
    "director_global_freq = df['director'].value_counts().to_dict()\n",
    "director_revenue_map = df.groupby('director')['revenue'].mean().to_dict()\n",
    "\n",
    "# === C) Apply encoding for actors ===\n",
    "for col in ['actor_1', 'actor_2', 'actor_3']:\n",
    "    df[col + '_freq'] = df[col].map(actor_global_freq).fillna(0)\n",
    "    df[col + '_target'] = df[col].map(actor_revenue_map).fillna(df['revenue'].mean())\n",
    "\n",
    "# === D) Apply encoding for director ===\n",
    "df['director_freq'] = df['director'].map(director_global_freq).fillna(0)\n",
    "df['director_target'] = df['director'].map(director_revenue_map).fillna(df['revenue'].mean())\n"
   ]
  },
  {
   "cell_type": "code",
   "execution_count": 44,
   "id": "9b445e08",
   "metadata": {
    "execution": {
     "iopub.execute_input": "2025-10-03T15:02:00.278169Z",
     "iopub.status.busy": "2025-10-03T15:02:00.277853Z",
     "iopub.status.idle": "2025-10-03T15:02:00.314963Z",
     "shell.execute_reply": "2025-10-03T15:02:00.313679Z"
    },
    "papermill": {
     "duration": 0.067429,
     "end_time": "2025-10-03T15:02:00.316771",
     "exception": false,
     "start_time": "2025-10-03T15:02:00.249342",
     "status": "completed"
    },
    "tags": []
   },
   "outputs": [
    {
     "data": {
      "text/html": [
       "<div>\n",
       "<style scoped>\n",
       "    .dataframe tbody tr th:only-of-type {\n",
       "        vertical-align: middle;\n",
       "    }\n",
       "\n",
       "    .dataframe tbody tr th {\n",
       "        vertical-align: top;\n",
       "    }\n",
       "\n",
       "    .dataframe thead th {\n",
       "        text-align: right;\n",
       "    }\n",
       "</style>\n",
       "<table border=\"1\" class=\"dataframe\">\n",
       "  <thead>\n",
       "    <tr style=\"text-align: right;\">\n",
       "      <th></th>\n",
       "      <th>title</th>\n",
       "      <th>production_countries</th>\n",
       "      <th>spoken_languages</th>\n",
       "      <th>runtime</th>\n",
       "      <th>budget</th>\n",
       "      <th>revenue</th>\n",
       "      <th>actor_1</th>\n",
       "      <th>actor_2</th>\n",
       "      <th>actor_3</th>\n",
       "      <th>director</th>\n",
       "      <th>genres_str</th>\n",
       "      <th>keywords_str</th>\n",
       "      <th>production_companies_str</th>\n",
       "      <th>all_actors</th>\n",
       "      <th>ROI</th>\n",
       "      <th>success</th>\n",
       "      <th>log_budget</th>\n",
       "      <th>log_revenue</th>\n",
       "      <th>actor_1_freq</th>\n",
       "      <th>actor_1_target</th>\n",
       "      <th>actor_2_freq</th>\n",
       "      <th>actor_2_target</th>\n",
       "      <th>actor_3_freq</th>\n",
       "      <th>actor_3_target</th>\n",
       "      <th>director_freq</th>\n",
       "      <th>director_target</th>\n",
       "    </tr>\n",
       "  </thead>\n",
       "  <tbody>\n",
       "    <tr>\n",
       "      <th>0</th>\n",
       "      <td>Avatar</td>\n",
       "      <td>[United States of America, United Kingdom]</td>\n",
       "      <td>[English, Español]</td>\n",
       "      <td>162.0</td>\n",
       "      <td>237000000</td>\n",
       "      <td>2787965087</td>\n",
       "      <td>sam worthington</td>\n",
       "      <td>zoe saldana</td>\n",
       "      <td>sigourney weaver</td>\n",
       "      <td>james cameron</td>\n",
       "      <td>fantasy adventure action science fiction</td>\n",
       "      <td>soldier anti war love affair mind and soul spa...</td>\n",
       "      <td>twentieth century fox film corporation dune en...</td>\n",
       "      <td>[sam worthington, zoe saldana, sigourney weaver]</td>\n",
       "      <td>11.763566</td>\n",
       "      <td>1</td>\n",
       "      <td>19.283571</td>\n",
       "      <td>21.748578</td>\n",
       "      <td>6.0</td>\n",
       "      <td>6.261268e+08</td>\n",
       "      <td>12.0</td>\n",
       "      <td>3.703433e+08</td>\n",
       "      <td>18.0</td>\n",
       "      <td>1.981745e+08</td>\n",
       "      <td>7</td>\n",
       "      <td>8.405099e+08</td>\n",
       "    </tr>\n",
       "    <tr>\n",
       "      <th>1</th>\n",
       "      <td>Pirates of the Caribbean: At World's End</td>\n",
       "      <td>[United States of America]</td>\n",
       "      <td>[English]</td>\n",
       "      <td>169.0</td>\n",
       "      <td>300000000</td>\n",
       "      <td>961000000</td>\n",
       "      <td>johnny depp</td>\n",
       "      <td>orlando bloom</td>\n",
       "      <td>keira knightley</td>\n",
       "      <td>gore verbinski</td>\n",
       "      <td>fantasy adventure action</td>\n",
       "      <td>shipwreck drug abuse swashbuckler afterlife ex...</td>\n",
       "      <td>second mate productions jerry bruckheimer film...</td>\n",
       "      <td>[johnny depp, orlando bloom, keira knightley]</td>\n",
       "      <td>3.203333</td>\n",
       "      <td>1</td>\n",
       "      <td>19.519293</td>\n",
       "      <td>20.683485</td>\n",
       "      <td>32.0</td>\n",
       "      <td>2.460739e+08</td>\n",
       "      <td>8.0</td>\n",
       "      <td>4.468792e+08</td>\n",
       "      <td>16.0</td>\n",
       "      <td>1.941067e+08</td>\n",
       "      <td>7</td>\n",
       "      <td>4.538591e+08</td>\n",
       "    </tr>\n",
       "    <tr>\n",
       "      <th>2</th>\n",
       "      <td>Spectre</td>\n",
       "      <td>[United Kingdom, United States of America]</td>\n",
       "      <td>[Français, English, Español, Italiano, Deutsch]</td>\n",
       "      <td>148.0</td>\n",
       "      <td>245000000</td>\n",
       "      <td>880674609</td>\n",
       "      <td>daniel craig</td>\n",
       "      <td>christoph waltz</td>\n",
       "      <td>léa seydoux</td>\n",
       "      <td>sam mendes</td>\n",
       "      <td>crime adventure action</td>\n",
       "      <td>secret agent british secret service sequel bas...</td>\n",
       "      <td>columbia pictures b24 danjaq</td>\n",
       "      <td>[daniel craig, christoph waltz, léa seydoux]</td>\n",
       "      <td>3.594590</td>\n",
       "      <td>1</td>\n",
       "      <td>19.316769</td>\n",
       "      <td>20.596199</td>\n",
       "      <td>12.0</td>\n",
       "      <td>3.623983e+08</td>\n",
       "      <td>8.0</td>\n",
       "      <td>2.975471e+08</td>\n",
       "      <td>1.0</td>\n",
       "      <td>8.806746e+08</td>\n",
       "      <td>7</td>\n",
       "      <td>3.876498e+08</td>\n",
       "    </tr>\n",
       "    <tr>\n",
       "      <th>3</th>\n",
       "      <td>The Dark Knight Rises</td>\n",
       "      <td>[United States of America]</td>\n",
       "      <td>[English]</td>\n",
       "      <td>165.0</td>\n",
       "      <td>250000000</td>\n",
       "      <td>1084939099</td>\n",
       "      <td>christian bale</td>\n",
       "      <td>michael caine</td>\n",
       "      <td>gary oldman</td>\n",
       "      <td>christopher nolan</td>\n",
       "      <td>thriller crime action drama</td>\n",
       "      <td>tragic hero hostage drama destruction dc comic...</td>\n",
       "      <td>dc entertainment legendary pictures warner bro...</td>\n",
       "      <td>[christian bale, michael caine, gary oldman]</td>\n",
       "      <td>4.339756</td>\n",
       "      <td>1</td>\n",
       "      <td>19.336971</td>\n",
       "      <td>20.804790</td>\n",
       "      <td>21.0</td>\n",
       "      <td>2.046681e+08</td>\n",
       "      <td>17.0</td>\n",
       "      <td>1.541214e+08</td>\n",
       "      <td>19.0</td>\n",
       "      <td>2.048767e+08</td>\n",
       "      <td>8</td>\n",
       "      <td>5.284354e+08</td>\n",
       "    </tr>\n",
       "    <tr>\n",
       "      <th>4</th>\n",
       "      <td>John Carter</td>\n",
       "      <td>[United States of America]</td>\n",
       "      <td>[English]</td>\n",
       "      <td>132.0</td>\n",
       "      <td>260000000</td>\n",
       "      <td>284139100</td>\n",
       "      <td>taylor kitsch</td>\n",
       "      <td>lynn collins</td>\n",
       "      <td>samantha morton</td>\n",
       "      <td>andrew stanton</td>\n",
       "      <td>adventure action science fiction</td>\n",
       "      <td>escape mars medallion 19th century sword and p...</td>\n",
       "      <td>walt disney pictures</td>\n",
       "      <td>[taylor kitsch, lynn collins, samantha morton]</td>\n",
       "      <td>1.092843</td>\n",
       "      <td>0</td>\n",
       "      <td>19.376192</td>\n",
       "      <td>19.464974</td>\n",
       "      <td>4.0</td>\n",
       "      <td>2.048566e+08</td>\n",
       "      <td>1.0</td>\n",
       "      <td>2.841391e+08</td>\n",
       "      <td>10.0</td>\n",
       "      <td>6.556715e+07</td>\n",
       "      <td>4</td>\n",
       "      <td>5.272613e+08</td>\n",
       "    </tr>\n",
       "    <tr>\n",
       "      <th>5</th>\n",
       "      <td>Spider-Man 3</td>\n",
       "      <td>[United States of America]</td>\n",
       "      <td>[English, Français]</td>\n",
       "      <td>139.0</td>\n",
       "      <td>258000000</td>\n",
       "      <td>890871626</td>\n",
       "      <td>tobey maguire</td>\n",
       "      <td>kirsten dunst</td>\n",
       "      <td>james franco</td>\n",
       "      <td>sam raimi</td>\n",
       "      <td>fantasy adventure action</td>\n",
       "      <td>hostility marvel comic sandstorm dual identity...</td>\n",
       "      <td>columbia pictures laura ziskin productions mar...</td>\n",
       "      <td>[tobey maguire, kirsten dunst, james franco]</td>\n",
       "      <td>3.452991</td>\n",
       "      <td>1</td>\n",
       "      <td>19.368470</td>\n",
       "      <td>20.607711</td>\n",
       "      <td>9.0</td>\n",
       "      <td>3.231040e+08</td>\n",
       "      <td>19.0</td>\n",
       "      <td>1.679262e+08</td>\n",
       "      <td>16.0</td>\n",
       "      <td>2.084721e+08</td>\n",
       "      <td>11</td>\n",
       "      <td>2.848092e+08</td>\n",
       "    </tr>\n",
       "    <tr>\n",
       "      <th>6</th>\n",
       "      <td>Tangled</td>\n",
       "      <td>[United States of America]</td>\n",
       "      <td>[English]</td>\n",
       "      <td>100.0</td>\n",
       "      <td>260000000</td>\n",
       "      <td>591794936</td>\n",
       "      <td>zachary levi</td>\n",
       "      <td>mandy moore</td>\n",
       "      <td>donna murphy</td>\n",
       "      <td>byron howard</td>\n",
       "      <td>animation family</td>\n",
       "      <td>musical selfishness healing gift magic animal ...</td>\n",
       "      <td>walt disney animation studios walt disney pict...</td>\n",
       "      <td>[zachary levi, mandy moore, donna murphy]</td>\n",
       "      <td>2.276134</td>\n",
       "      <td>1</td>\n",
       "      <td>19.376192</td>\n",
       "      <td>20.198671</td>\n",
       "      <td>2.0</td>\n",
       "      <td>5.174675e+08</td>\n",
       "      <td>9.0</td>\n",
       "      <td>9.698903e+07</td>\n",
       "      <td>2.0</td>\n",
       "      <td>2.963183e+08</td>\n",
       "      <td>1</td>\n",
       "      <td>5.917949e+08</td>\n",
       "    </tr>\n",
       "    <tr>\n",
       "      <th>7</th>\n",
       "      <td>Avengers: Age of Ultron</td>\n",
       "      <td>[United States of America]</td>\n",
       "      <td>[English]</td>\n",
       "      <td>141.0</td>\n",
       "      <td>280000000</td>\n",
       "      <td>1405403694</td>\n",
       "      <td>robert downey jr.</td>\n",
       "      <td>chris hemsworth</td>\n",
       "      <td>mark ruffalo</td>\n",
       "      <td>joss whedon</td>\n",
       "      <td>adventure action science fiction</td>\n",
       "      <td>marvel comic superhero team marvel cinematic u...</td>\n",
       "      <td>prime focus marvel studios revolution sun studios</td>\n",
       "      <td>[robert downey jr., chris hemsworth, mark ruff...</td>\n",
       "      <td>5.019299</td>\n",
       "      <td>1</td>\n",
       "      <td>19.450300</td>\n",
       "      <td>21.063590</td>\n",
       "      <td>20.0</td>\n",
       "      <td>4.070385e+08</td>\n",
       "      <td>10.0</td>\n",
       "      <td>3.328858e+08</td>\n",
       "      <td>18.0</td>\n",
       "      <td>2.331136e+08</td>\n",
       "      <td>3</td>\n",
       "      <td>9.879437e+08</td>\n",
       "    </tr>\n",
       "    <tr>\n",
       "      <th>8</th>\n",
       "      <td>Harry Potter and the Half-Blood Prince</td>\n",
       "      <td>[United Kingdom, United States of America]</td>\n",
       "      <td>[English]</td>\n",
       "      <td>153.0</td>\n",
       "      <td>250000000</td>\n",
       "      <td>933959197</td>\n",
       "      <td>daniel radcliffe</td>\n",
       "      <td>rupert grint</td>\n",
       "      <td>emma watson</td>\n",
       "      <td>david yates</td>\n",
       "      <td>fantasy adventure family</td>\n",
       "      <td>school of witchcraft wizardry magic broom teen...</td>\n",
       "      <td>warner bros. heyday films</td>\n",
       "      <td>[daniel radcliffe, rupert grint, emma watson]</td>\n",
       "      <td>3.735837</td>\n",
       "      <td>1</td>\n",
       "      <td>19.336971</td>\n",
       "      <td>20.654943</td>\n",
       "      <td>8.0</td>\n",
       "      <td>6.966274e+08</td>\n",
       "      <td>8.0</td>\n",
       "      <td>6.768143e+08</td>\n",
       "      <td>10.0</td>\n",
       "      <td>5.875647e+08</td>\n",
       "      <td>3</td>\n",
       "      <td>7.429717e+08</td>\n",
       "    </tr>\n",
       "    <tr>\n",
       "      <th>9</th>\n",
       "      <td>Batman v Superman: Dawn of Justice</td>\n",
       "      <td>[United States of America]</td>\n",
       "      <td>[English]</td>\n",
       "      <td>151.0</td>\n",
       "      <td>250000000</td>\n",
       "      <td>873260194</td>\n",
       "      <td>ben affleck</td>\n",
       "      <td>henry cavill</td>\n",
       "      <td>gal gadot</td>\n",
       "      <td>zack snyder</td>\n",
       "      <td>fantasy adventure action</td>\n",
       "      <td>vigilante clark kent dc comics based on comic ...</td>\n",
       "      <td>dc comics warner bros. cruel &amp; unusual films a...</td>\n",
       "      <td>[ben affleck, henry cavill, gal gadot]</td>\n",
       "      <td>3.493041</td>\n",
       "      <td>1</td>\n",
       "      <td>19.336971</td>\n",
       "      <td>20.587744</td>\n",
       "      <td>20.0</td>\n",
       "      <td>1.864304e+08</td>\n",
       "      <td>4.0</td>\n",
       "      <td>4.152786e+08</td>\n",
       "      <td>1.0</td>\n",
       "      <td>8.732602e+08</td>\n",
       "      <td>7</td>\n",
       "      <td>3.537425e+08</td>\n",
       "    </tr>\n",
       "  </tbody>\n",
       "</table>\n",
       "</div>"
      ],
      "text/plain": [
       "                                      title  \\\n",
       "0                                    Avatar   \n",
       "1  Pirates of the Caribbean: At World's End   \n",
       "2                                   Spectre   \n",
       "3                     The Dark Knight Rises   \n",
       "4                               John Carter   \n",
       "5                              Spider-Man 3   \n",
       "6                                   Tangled   \n",
       "7                   Avengers: Age of Ultron   \n",
       "8    Harry Potter and the Half-Blood Prince   \n",
       "9        Batman v Superman: Dawn of Justice   \n",
       "\n",
       "                         production_countries  \\\n",
       "0  [United States of America, United Kingdom]   \n",
       "1                  [United States of America]   \n",
       "2  [United Kingdom, United States of America]   \n",
       "3                  [United States of America]   \n",
       "4                  [United States of America]   \n",
       "5                  [United States of America]   \n",
       "6                  [United States of America]   \n",
       "7                  [United States of America]   \n",
       "8  [United Kingdom, United States of America]   \n",
       "9                  [United States of America]   \n",
       "\n",
       "                                  spoken_languages  runtime     budget  \\\n",
       "0                               [English, Español]    162.0  237000000   \n",
       "1                                        [English]    169.0  300000000   \n",
       "2  [Français, English, Español, Italiano, Deutsch]    148.0  245000000   \n",
       "3                                        [English]    165.0  250000000   \n",
       "4                                        [English]    132.0  260000000   \n",
       "5                              [English, Français]    139.0  258000000   \n",
       "6                                        [English]    100.0  260000000   \n",
       "7                                        [English]    141.0  280000000   \n",
       "8                                        [English]    153.0  250000000   \n",
       "9                                        [English]    151.0  250000000   \n",
       "\n",
       "      revenue            actor_1          actor_2           actor_3  \\\n",
       "0  2787965087    sam worthington      zoe saldana  sigourney weaver   \n",
       "1   961000000        johnny depp    orlando bloom   keira knightley   \n",
       "2   880674609       daniel craig  christoph waltz       léa seydoux   \n",
       "3  1084939099     christian bale    michael caine       gary oldman   \n",
       "4   284139100      taylor kitsch     lynn collins   samantha morton   \n",
       "5   890871626      tobey maguire    kirsten dunst      james franco   \n",
       "6   591794936       zachary levi      mandy moore      donna murphy   \n",
       "7  1405403694  robert downey jr.  chris hemsworth      mark ruffalo   \n",
       "8   933959197   daniel radcliffe     rupert grint       emma watson   \n",
       "9   873260194        ben affleck     henry cavill         gal gadot   \n",
       "\n",
       "            director                                genres_str  \\\n",
       "0      james cameron  fantasy adventure action science fiction   \n",
       "1     gore verbinski                  fantasy adventure action   \n",
       "2         sam mendes                    crime adventure action   \n",
       "3  christopher nolan               thriller crime action drama   \n",
       "4     andrew stanton          adventure action science fiction   \n",
       "5          sam raimi                  fantasy adventure action   \n",
       "6       byron howard                          animation family   \n",
       "7        joss whedon          adventure action science fiction   \n",
       "8        david yates                  fantasy adventure family   \n",
       "9        zack snyder                  fantasy adventure action   \n",
       "\n",
       "                                        keywords_str  \\\n",
       "0  soldier anti war love affair mind and soul spa...   \n",
       "1  shipwreck drug abuse swashbuckler afterlife ex...   \n",
       "2  secret agent british secret service sequel bas...   \n",
       "3  tragic hero hostage drama destruction dc comic...   \n",
       "4  escape mars medallion 19th century sword and p...   \n",
       "5  hostility marvel comic sandstorm dual identity...   \n",
       "6  musical selfishness healing gift magic animal ...   \n",
       "7  marvel comic superhero team marvel cinematic u...   \n",
       "8  school of witchcraft wizardry magic broom teen...   \n",
       "9  vigilante clark kent dc comics based on comic ...   \n",
       "\n",
       "                            production_companies_str  \\\n",
       "0  twentieth century fox film corporation dune en...   \n",
       "1  second mate productions jerry bruckheimer film...   \n",
       "2                       columbia pictures b24 danjaq   \n",
       "3  dc entertainment legendary pictures warner bro...   \n",
       "4                               walt disney pictures   \n",
       "5  columbia pictures laura ziskin productions mar...   \n",
       "6  walt disney animation studios walt disney pict...   \n",
       "7  prime focus marvel studios revolution sun studios   \n",
       "8                          warner bros. heyday films   \n",
       "9  dc comics warner bros. cruel & unusual films a...   \n",
       "\n",
       "                                          all_actors        ROI  success  \\\n",
       "0   [sam worthington, zoe saldana, sigourney weaver]  11.763566        1   \n",
       "1      [johnny depp, orlando bloom, keira knightley]   3.203333        1   \n",
       "2       [daniel craig, christoph waltz, léa seydoux]   3.594590        1   \n",
       "3       [christian bale, michael caine, gary oldman]   4.339756        1   \n",
       "4     [taylor kitsch, lynn collins, samantha morton]   1.092843        0   \n",
       "5       [tobey maguire, kirsten dunst, james franco]   3.452991        1   \n",
       "6          [zachary levi, mandy moore, donna murphy]   2.276134        1   \n",
       "7  [robert downey jr., chris hemsworth, mark ruff...   5.019299        1   \n",
       "8      [daniel radcliffe, rupert grint, emma watson]   3.735837        1   \n",
       "9             [ben affleck, henry cavill, gal gadot]   3.493041        1   \n",
       "\n",
       "   log_budget  log_revenue  actor_1_freq  actor_1_target  actor_2_freq  \\\n",
       "0   19.283571    21.748578           6.0    6.261268e+08          12.0   \n",
       "1   19.519293    20.683485          32.0    2.460739e+08           8.0   \n",
       "2   19.316769    20.596199          12.0    3.623983e+08           8.0   \n",
       "3   19.336971    20.804790          21.0    2.046681e+08          17.0   \n",
       "4   19.376192    19.464974           4.0    2.048566e+08           1.0   \n",
       "5   19.368470    20.607711           9.0    3.231040e+08          19.0   \n",
       "6   19.376192    20.198671           2.0    5.174675e+08           9.0   \n",
       "7   19.450300    21.063590          20.0    4.070385e+08          10.0   \n",
       "8   19.336971    20.654943           8.0    6.966274e+08           8.0   \n",
       "9   19.336971    20.587744          20.0    1.864304e+08           4.0   \n",
       "\n",
       "   actor_2_target  actor_3_freq  actor_3_target  director_freq  \\\n",
       "0    3.703433e+08          18.0    1.981745e+08              7   \n",
       "1    4.468792e+08          16.0    1.941067e+08              7   \n",
       "2    2.975471e+08           1.0    8.806746e+08              7   \n",
       "3    1.541214e+08          19.0    2.048767e+08              8   \n",
       "4    2.841391e+08          10.0    6.556715e+07              4   \n",
       "5    1.679262e+08          16.0    2.084721e+08             11   \n",
       "6    9.698903e+07           2.0    2.963183e+08              1   \n",
       "7    3.328858e+08          18.0    2.331136e+08              3   \n",
       "8    6.768143e+08          10.0    5.875647e+08              3   \n",
       "9    4.152786e+08           1.0    8.732602e+08              7   \n",
       "\n",
       "   director_target  \n",
       "0     8.405099e+08  \n",
       "1     4.538591e+08  \n",
       "2     3.876498e+08  \n",
       "3     5.284354e+08  \n",
       "4     5.272613e+08  \n",
       "5     2.848092e+08  \n",
       "6     5.917949e+08  \n",
       "7     9.879437e+08  \n",
       "8     7.429717e+08  \n",
       "9     3.537425e+08  "
      ]
     },
     "execution_count": 44,
     "metadata": {},
     "output_type": "execute_result"
    }
   ],
   "source": [
    "df.head(10)"
   ]
  },
  {
   "cell_type": "code",
   "execution_count": 45,
   "id": "c81ad3ec",
   "metadata": {
    "execution": {
     "iopub.execute_input": "2025-10-03T15:02:00.375096Z",
     "iopub.status.busy": "2025-10-03T15:02:00.374732Z",
     "iopub.status.idle": "2025-10-03T15:02:00.391368Z",
     "shell.execute_reply": "2025-10-03T15:02:00.389782Z"
    },
    "papermill": {
     "duration": 0.049845,
     "end_time": "2025-10-03T15:02:00.394712",
     "exception": false,
     "start_time": "2025-10-03T15:02:00.344867",
     "status": "completed"
    },
    "tags": []
   },
   "outputs": [
    {
     "data": {
      "text/plain": [
       "title                        0\n",
       "production_countries         0\n",
       "spoken_languages             0\n",
       "runtime                      0\n",
       "budget                       0\n",
       "revenue                      0\n",
       "actor_1                     43\n",
       "actor_2                     53\n",
       "actor_3                     63\n",
       "director                     0\n",
       "genres_str                   0\n",
       "keywords_str                 0\n",
       "production_companies_str     0\n",
       "all_actors                   0\n",
       "ROI                          0\n",
       "success                      0\n",
       "log_budget                   0\n",
       "log_revenue                  0\n",
       "actor_1_freq                 0\n",
       "actor_1_target               0\n",
       "actor_2_freq                 0\n",
       "actor_2_target               0\n",
       "actor_3_freq                 0\n",
       "actor_3_target               0\n",
       "director_freq                0\n",
       "director_target              0\n",
       "dtype: int64"
      ]
     },
     "execution_count": 45,
     "metadata": {},
     "output_type": "execute_result"
    }
   ],
   "source": [
    "df.isna().sum()"
   ]
  },
  {
   "cell_type": "markdown",
   "id": "572e3a82",
   "metadata": {
    "papermill": {
     "duration": 0.027971,
     "end_time": "2025-10-03T15:02:00.452172",
     "exception": false,
     "start_time": "2025-10-03T15:02:00.424201",
     "status": "completed"
    },
    "tags": []
   },
   "source": [
    "# **Data Preprocessing for model**"
   ]
  },
  {
   "cell_type": "code",
   "execution_count": 46,
   "id": "4ca8d501",
   "metadata": {
    "execution": {
     "iopub.execute_input": "2025-10-03T15:02:00.509414Z",
     "iopub.status.busy": "2025-10-03T15:02:00.509015Z",
     "iopub.status.idle": "2025-10-03T15:02:00.937097Z",
     "shell.execute_reply": "2025-10-03T15:02:00.935890Z"
    },
    "papermill": {
     "duration": 0.459214,
     "end_time": "2025-10-03T15:02:00.939250",
     "exception": false,
     "start_time": "2025-10-03T15:02:00.480036",
     "status": "completed"
    },
    "tags": []
   },
   "outputs": [],
   "source": [
    "from sklearn.feature_extraction.text import CountVectorizer\n",
    "\n",
    "vectorizer_genres = CountVectorizer(max_features=200, token_pattern=r'[^ ]+')\n",
    "vectorizer_keywords = CountVectorizer(max_features=200, token_pattern=r'[^ ]+')\n",
    "vectorizer_companies = CountVectorizer(max_features=50, token_pattern=r'[^ ]+')\n",
    "\n",
    "genres_encoded = vectorizer_genres.fit_transform(df['genres_str']).toarray()\n",
    "keywords_encoded = vectorizer_keywords.fit_transform(df['keywords_str']).toarray()\n",
    "companies_encoded = vectorizer_companies.fit_transform(df['production_companies_str']).toarray()\n"
   ]
  },
  {
   "cell_type": "code",
   "execution_count": 47,
   "id": "f8d78907",
   "metadata": {
    "execution": {
     "iopub.execute_input": "2025-10-03T15:02:00.996655Z",
     "iopub.status.busy": "2025-10-03T15:02:00.996189Z",
     "iopub.status.idle": "2025-10-03T15:02:01.012473Z",
     "shell.execute_reply": "2025-10-03T15:02:01.011411Z"
    },
    "papermill": {
     "duration": 0.047533,
     "end_time": "2025-10-03T15:02:01.014699",
     "exception": false,
     "start_time": "2025-10-03T15:02:00.967166",
     "status": "completed"
    },
    "tags": []
   },
   "outputs": [],
   "source": [
    "X = np.hstack([\n",
    "    genres_encoded,\n",
    "    keywords_encoded,\n",
    "    companies_encoded,\n",
    "    df[['actor_1_freq', 'actor_2_freq', 'actor_3_freq', 'director_freq',\n",
    "        'actor_1_target', 'actor_2_target', 'actor_3_target', 'director_target',\n",
    "        'budget']].values\n",
    "])\n",
    "\n",
    "y_revenue = df['log_revenue']   # for regression\n",
    "y_success = df['success']   # for classification\n"
   ]
  },
  {
   "cell_type": "markdown",
   "id": "b508b386",
   "metadata": {
    "papermill": {
     "duration": 0.029082,
     "end_time": "2025-10-03T15:02:01.072480",
     "exception": false,
     "start_time": "2025-10-03T15:02:01.043398",
     "status": "completed"
    },
    "tags": []
   },
   "source": [
    "# **Split data**"
   ]
  },
  {
   "cell_type": "code",
   "execution_count": 48,
   "id": "c8b6e007",
   "metadata": {
    "execution": {
     "iopub.execute_input": "2025-10-03T15:02:01.130183Z",
     "iopub.status.busy": "2025-10-03T15:02:01.129865Z",
     "iopub.status.idle": "2025-10-03T15:02:01.282011Z",
     "shell.execute_reply": "2025-10-03T15:02:01.280836Z"
    },
    "papermill": {
     "duration": 0.183647,
     "end_time": "2025-10-03T15:02:01.283966",
     "exception": false,
     "start_time": "2025-10-03T15:02:01.100319",
     "status": "completed"
    },
    "tags": []
   },
   "outputs": [],
   "source": [
    "from sklearn.model_selection import train_test_split\n",
    "\n",
    "X_train_reg, X_test_reg, y_train_reg, y_test_reg = train_test_split(X, y_revenue, test_size=0.2, random_state=42)\n",
    "\n",
    "X_train_cls, X_test_cls, y_train_cls, y_test_cls = train_test_split(X, y_success, test_size=0.2, random_state=42)"
   ]
  },
  {
   "cell_type": "markdown",
   "id": "dc88eb79",
   "metadata": {
    "papermill": {
     "duration": 0.028455,
     "end_time": "2025-10-03T15:02:01.340902",
     "exception": false,
     "start_time": "2025-10-03T15:02:01.312447",
     "status": "completed"
    },
    "tags": []
   },
   "source": [
    "# **Regression**"
   ]
  },
  {
   "cell_type": "code",
   "execution_count": 49,
   "id": "1ff8cea2",
   "metadata": {
    "execution": {
     "iopub.execute_input": "2025-10-03T15:02:01.400903Z",
     "iopub.status.busy": "2025-10-03T15:02:01.400319Z",
     "iopub.status.idle": "2025-10-03T15:02:08.978280Z",
     "shell.execute_reply": "2025-10-03T15:02:08.977363Z"
    },
    "papermill": {
     "duration": 7.611454,
     "end_time": "2025-10-03T15:02:08.980365",
     "exception": false,
     "start_time": "2025-10-03T15:02:01.368911",
     "status": "completed"
    },
    "tags": []
   },
   "outputs": [
    {
     "name": "stdout",
     "output_type": "stream",
     "text": [
      "RMSE: 2.839194296841017\n",
      "R²: 0.8786052395916242\n"
     ]
    }
   ],
   "source": [
    "from sklearn.metrics import mean_squared_error, r2_score\n",
    "from xgboost import XGBRegressor\n",
    "\n",
    "xgb_reg = XGBRegressor(\n",
    "    n_estimators=1000,\n",
    "    learning_rate=0.01,\n",
    "    max_depth=10,\n",
    "    subsample=0.8,\n",
    "    colsample_bytree=0.8,\n",
    "    random_state=42\n",
    ")\n",
    "xgb_reg.fit(X_train_reg, y_train_reg)\n",
    "\n",
    "y_pred = xgb_reg.predict(X_test_reg)\n",
    "print(\"RMSE:\", mean_squared_error(y_test_reg, y_pred, squared=False))\n",
    "print(\"R²:\", r2_score(y_test_reg, y_pred))\n"
   ]
  },
  {
   "cell_type": "markdown",
   "id": "727c2494",
   "metadata": {
    "papermill": {
     "duration": 0.027345,
     "end_time": "2025-10-03T15:02:09.035621",
     "exception": false,
     "start_time": "2025-10-03T15:02:09.008276",
     "status": "completed"
    },
    "tags": []
   },
   "source": [
    "# **Classification**"
   ]
  },
  {
   "cell_type": "code",
   "execution_count": 50,
   "id": "65e35c69",
   "metadata": {
    "execution": {
     "iopub.execute_input": "2025-10-03T15:02:09.094804Z",
     "iopub.status.busy": "2025-10-03T15:02:09.094435Z",
     "iopub.status.idle": "2025-10-03T15:02:10.618169Z",
     "shell.execute_reply": "2025-10-03T15:02:10.616474Z"
    },
    "papermill": {
     "duration": 1.556233,
     "end_time": "2025-10-03T15:02:10.620181",
     "exception": false,
     "start_time": "2025-10-03T15:02:09.063948",
     "status": "completed"
    },
    "tags": []
   },
   "outputs": [
    {
     "name": "stdout",
     "output_type": "stream",
     "text": [
      "              precision    recall  f1-score   support\n",
      "\n",
      "           0       0.88      0.85      0.87       513\n",
      "           1       0.84      0.87      0.85       449\n",
      "\n",
      "    accuracy                           0.86       962\n",
      "   macro avg       0.86      0.86      0.86       962\n",
      "weighted avg       0.86      0.86      0.86       962\n",
      "\n",
      "[[438  75]\n",
      " [ 58 391]]\n"
     ]
    }
   ],
   "source": [
    "from xgboost import XGBClassifier\n",
    "from sklearn.metrics import classification_report, confusion_matrix\n",
    "\n",
    "xgb_cls = XGBClassifier(\n",
    "    n_estimators=500,\n",
    "    learning_rate=0.05,\n",
    "    max_depth=6,\n",
    "    subsample=0.8,\n",
    "    colsample_bytree=0.8,\n",
    "    random_state=42\n",
    ")\n",
    "\n",
    "xgb_cls.fit(X_train_cls, y_train_cls)\n",
    "y_pred_cls = xgb_cls.predict(X_test_cls)\n",
    "\n",
    "print(classification_report(y_test_cls, y_pred_cls))\n",
    "print(confusion_matrix(y_test_cls, y_pred_cls))\n"
   ]
  },
  {
   "cell_type": "code",
   "execution_count": 51,
   "id": "5ef9edd1",
   "metadata": {
    "execution": {
     "iopub.execute_input": "2025-10-03T15:02:10.679490Z",
     "iopub.status.busy": "2025-10-03T15:02:10.679023Z",
     "iopub.status.idle": "2025-10-03T15:02:10.888171Z",
     "shell.execute_reply": "2025-10-03T15:02:10.887085Z"
    },
    "papermill": {
     "duration": 0.239219,
     "end_time": "2025-10-03T15:02:10.889971",
     "exception": false,
     "start_time": "2025-10-03T15:02:10.650752",
     "status": "completed"
    },
    "tags": []
   },
   "outputs": [
    {
     "data": {
      "image/png": "[encoded data removed]",
      "text/plain": [
       "<Figure size 600x400 with 2 Axes>"
      ]
     },
     "metadata": {},
     "output_type": "display_data"
    }
   ],
   "source": [
    "cm = confusion_matrix(y_test_cls, y_pred_cls)\n",
    "\n",
    "plt.figure(figsize=(6,4))\n",
    "sns.heatmap(cm, annot=True, fmt=\"d\", cmap=\"Blues\",\n",
    "            xticklabels=[\"Flop\", \"Hit\"], yticklabels=[\"Flop\", \"Hit\"])\n",
    "plt.xlabel(\"Predicted\")\n",
    "plt.ylabel(\"Actual\")\n",
    "plt.title(\"Movie Success Prediction – Confusion Matrix\")\n",
    "plt.show()\n"
   ]
  },
  {
   "cell_type": "markdown",
   "id": "05fe84cf",
   "metadata": {
    "papermill": {
     "duration": 0.027157,
     "end_time": "2025-10-03T15:02:10.945408",
     "exception": false,
     "start_time": "2025-10-03T15:02:10.918251",
     "status": "completed"
    },
    "tags": []
   },
   "source": [
    "# **Test**"
   ]
  },
  {
   "cell_type": "code",
   "execution_count": 52,
   "id": "ca1cf80c",
   "metadata": {
    "execution": {
     "iopub.execute_input": "2025-10-03T15:02:11.005319Z",
     "iopub.status.busy": "2025-10-03T15:02:11.004394Z",
     "iopub.status.idle": "2025-10-03T15:02:11.221476Z",
     "shell.execute_reply": "2025-10-03T15:02:11.220369Z"
    },
    "papermill": {
     "duration": 0.248798,
     "end_time": "2025-10-03T15:02:11.223269",
     "exception": false,
     "start_time": "2025-10-03T15:02:10.974471",
     "status": "completed"
    },
    "tags": []
   },
   "outputs": [
    {
     "data": {
      "text/plain": [
       "['target_dicts.pkl']"
      ]
     },
     "execution_count": 52,
     "metadata": {},
     "output_type": "execute_result"
    }
   ],
   "source": [
    "import joblib\n",
    "\n",
    "# Save trained models\n",
    "joblib.dump(xgb_reg, \"xgb_regressor.pkl\")\n",
    "joblib.dump(xgb_cls, \"xgb_classifier.pkl\")\n",
    "\n",
    "# Save vectorizers\n",
    "joblib.dump(vectorizer_genres, \"vectorizer_genres.pkl\")\n",
    "joblib.dump(vectorizer_keywords, \"vectorizer_keywords.pkl\")\n",
    "joblib.dump(vectorizer_companies, \"vectorizer_companies.pkl\")\n",
    "\n",
    "# Save frequency dictionaries\n",
    "freq_dicts = {\n",
    "    col: df[col].value_counts().to_dict()\n",
    "    for col in ['actor_1', 'actor_2', 'actor_3', 'director']\n",
    "}\n",
    "\n",
    "# Save target encoding dictionaries\n",
    "target_dicts = {\n",
    "    col: df.groupby(col)['revenue'].mean().to_dict()\n",
    "    for col in ['actor_1', 'actor_2', 'actor_3', 'director']\n",
    "}\n",
    "\n",
    "joblib.dump(freq_dicts, \"freq_dicts.pkl\")\n",
    "joblib.dump(target_dicts, \"target_dicts.pkl\")\n"
   ]
  },
  {
   "cell_type": "code",
   "execution_count": 53,
   "id": "09d89153",
   "metadata": {
    "execution": {
     "iopub.execute_input": "2025-10-03T15:02:11.284485Z",
     "iopub.status.busy": "2025-10-03T15:02:11.283948Z",
     "iopub.status.idle": "2025-10-03T15:02:11.368355Z",
     "shell.execute_reply": "2025-10-03T15:02:11.367202Z"
    },
    "papermill": {
     "duration": 0.117636,
     "end_time": "2025-10-03T15:02:11.370330",
     "exception": false,
     "start_time": "2025-10-03T15:02:11.252694",
     "status": "completed"
    },
    "tags": []
   },
   "outputs": [],
   "source": [
    "# Load vectorizers & dictionaries\n",
    "vectorizer_genres = joblib.load(\"vectorizer_genres.pkl\")\n",
    "vectorizer_keywords = joblib.load(\"vectorizer_keywords.pkl\")\n",
    "vectorizer_companies = joblib.load(\"vectorizer_companies.pkl\")\n",
    "\n",
    "freq_dicts = joblib.load(\"freq_dicts.pkl\")\n",
    "target_dicts = joblib.load(\"target_dicts.pkl\")\n",
    "\n",
    "# Global mean revenue as fallback\n",
    "global_mean_revenue = df['revenue'].mean()\n",
    "\n",
    "def preprocess_input(genres, keywords, companies, actor_1, actor_2, actor_3, director, budget):\n",
    "    genres = [item.lower() for item in genres]\n",
    "    keywords = [item.lower() for item in keywords]\n",
    "    companies = [item.lower() for item in companies]\n",
    "    actor_1 = actor_1.lower()\n",
    "    actor_2 = actor_2.lower()\n",
    "    actor_3 = actor_3.lower()\n",
    "    director = director.lower()\n",
    "    # 1️⃣ Encode text features\n",
    "    genres_encoded = vectorizer_genres.transform([\" \".join(genres)]).toarray()\n",
    "    keywords_encoded = vectorizer_keywords.transform([\" \".join(keywords)]).toarray()\n",
    "    companies_encoded = vectorizer_companies.transform([\" \".join(companies)]).toarray()\n",
    "\n",
    "    # 2️⃣ Safe lookup\n",
    "    def get_feature_value(mapping, key, default=0):\n",
    "        return mapping.get(key, default)\n",
    "\n",
    "    # Frequencies\n",
    "    actor_1_freq = get_feature_value(freq_dicts['actor_1'], actor_1)\n",
    "    actor_2_freq = get_feature_value(freq_dicts['actor_2'], actor_2)\n",
    "    actor_3_freq = get_feature_value(freq_dicts['actor_3'], actor_3)\n",
    "    director_freq_val = get_feature_value(freq_dicts['director'], director)\n",
    "\n",
    "    # Target encodings\n",
    "    actor_1_target = get_feature_value(target_dicts['actor_1'], actor_1, global_mean_revenue)\n",
    "    actor_2_target = get_feature_value(target_dicts['actor_2'], actor_2, global_mean_revenue)\n",
    "    actor_3_target = get_feature_value(target_dicts['actor_3'], actor_3, global_mean_revenue)\n",
    "    director_target_val = get_feature_value(target_dicts['director'], director, global_mean_revenue)\n",
    "\n",
    "    # 3️⃣ Numeric features\n",
    "    numeric_features = np.array([\n",
    "        actor_1_freq, actor_2_freq, actor_3_freq, director_freq_val,\n",
    "        actor_1_target, actor_2_target, actor_3_target, director_target_val,\n",
    "        budget\n",
    "    ]).reshape(1, -1)\n",
    "\n",
    "    # 4️⃣ Combine\n",
    "    X_input = np.hstack([\n",
    "        genres_encoded,\n",
    "        keywords_encoded,\n",
    "        companies_encoded,\n",
    "        numeric_features\n",
    "    ])\n",
    "\n",
    "    return X_input\n"
   ]
  },
  {
   "cell_type": "code",
   "execution_count": 54,
   "id": "ccb57173",
   "metadata": {
    "execution": {
     "iopub.execute_input": "2025-10-03T15:02:11.432662Z",
     "iopub.status.busy": "2025-10-03T15:02:11.431476Z",
     "iopub.status.idle": "2025-10-03T15:02:11.445191Z",
     "shell.execute_reply": "2025-10-03T15:02:11.444284Z"
    },
    "papermill": {
     "duration": 0.047708,
     "end_time": "2025-10-03T15:02:11.447377",
     "exception": false,
     "start_time": "2025-10-03T15:02:11.399669",
     "status": "completed"
    },
    "tags": []
   },
   "outputs": [
    {
     "name": "stdout",
     "output_type": "stream",
     "text": [
      "(1, 281)\n",
      "🎬 Predicted Revenue: $743,257,984\n",
      "✅ Success Prediction: Yes (Confidence: 99.41%)\n"
     ]
    }
   ],
   "source": [
    "new_movie = preprocess_input(\n",
    "    genres=[\"Action\", \"Adventure\", \"Sci-Fi\"],\n",
    "    keywords=[\"future\", \"time travel\", \"hero\"],\n",
    "    companies=[\"warner Bros\"],\n",
    "    actor_1=\"Tom Cruise\",\n",
    "    actor_2=\"johnny depp\",\n",
    "    actor_3=\"zoe saldana\",\n",
    "    director=\"Christopher Nolan\",\n",
    "    budget=270000000\n",
    ")\n",
    "# sam worthington zoe saldana sigourney weaver / Tom Cruise\n",
    "# [johnny depp, orlando bloom, keira knightley\n",
    "\n",
    "print(new_movie.shape)  # should be (1, total_features)\n",
    "\n",
    "# Predict revenue\n",
    "reg_pred = xgb_reg.predict(new_movie)\n",
    "predicted_revenue = int(round(np.expm1(reg_pred[0])))  # whole number\n",
    "\n",
    "# Predict success + probability\n",
    "cls_pred = xgb_cls.predict(new_movie)\n",
    "cls_prob = xgb_cls.predict_proba(new_movie)[0][1]  # probability of success (class=1)\n",
    "\n",
    "print(f\"🎬 Predicted Revenue: ${predicted_revenue:,}\")  # formatted with commas\n",
    "print(f\"✅ Success Prediction: {'Yes' if cls_pred[0] == 1 else 'No'} \"\n",
    "      f\"(Confidence: {cls_prob*100:.2f}%)\")\n"
   ]
  },
  {
   "cell_type": "code",
   "execution_count": null,
   "id": "a04b6b85",
   "metadata": {
    "papermill": {
     "duration": 0.03085,
     "end_time": "2025-10-03T15:02:11.510683",
     "exception": false,
     "start_time": "2025-10-03T15:02:11.479833",
     "status": "completed"
    },
    "tags": []
   },
   "outputs": [],
   "source": []
  }
 ],
 "metadata": {
  "kaggle": {
   "accelerator": "none",
   "dataSources": [
    {
     "datasetId": 138,
     "sourceId": 4508,
     "sourceType": "datasetVersion"
    }
   ],
   "dockerImageVersionId": 31089,
   "isGpuEnabled": false,
   "isInternetEnabled": true,
   "language": "python",
   "sourceType": "notebook"
  },
  "kernelspec": {
   "display_name": "Python 3",
   "language": "python",
   "name": "python3"
  },
  "language_info": {
   "codemirror_mode": {
    "name": "ipython",
    "version": 3
   },
   "file_extension": ".py",
   "mimetype": "text/x-python",
   "name": "python",
   "nbconvert_exporter": "python",
   "pygments_lexer": "ipython3",
   "version": "3.11.13"
  },
  "papermill": {
   "default_parameters": {},
   "duration": 41.518107,
   "end_time": "2025-10-03T15:02:12.464699",
   "environment_variables": {},
   "exception": null,
   "input_path": "__notebook__.ipynb",
   "output_path": "__notebook__.ipynb",
   "parameters": {},
   "start_time": "2025-10-03T15:01:30.946592",
   "version": "2.6.0"
  }
 },
 "nbformat": 4,
 "nbformat_minor": 5
}
